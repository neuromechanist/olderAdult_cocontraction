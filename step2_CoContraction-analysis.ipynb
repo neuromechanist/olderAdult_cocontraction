{
 "cells": [
  {
   "attachments": {},
   "cell_type": "markdown",
   "metadata": {},
   "source": [
    "# Co-contraction Analysis\n",
    "\n",
    "## NOTE: Data is not currently shared. This code is only provided for reference.\n",
    "\n",
    "Co-contraction analysis uses the pre-processed coactivations from `step1` and used `SMART` toolbox to smoothly downsample the results to get only a handful datapoints.\n",
    "\n",
    "This script re-produces Figures 4 and 5 of the manuscript"
   ]
  },
  {
   "cell_type": "code",
   "execution_count": 1,
   "metadata": {},
   "outputs": [
    {
     "name": "stderr",
     "output_type": "stream",
     "text": [
      "/opt/homebrew/anaconda3/envs/torch-beta/lib/python3.9/site-packages/outdated/utils.py:14: OutdatedPackageWarning: The package outdated is out of date. Your version is 0.2.1, the latest is 0.2.2.\n",
      "Set the environment variable OUTDATED_IGNORE=1 to disable these warnings.\n",
      "  return warn(\n",
      "2022-11-11 17:18:30,519\tINFO worker.py:1509 -- Started a local Ray instance. View the dashboard at \u001b[1m\u001b[32m127.0.0.1:8265 \u001b[39m\u001b[22m\n"
     ]
    }
   ],
   "source": [
    "# Import libraries and setup values\n",
    "import pickle as pkl\n",
    "\n",
    "import matplotlib.pyplot as plt\n",
    "import numpy as np\n",
    "import pandas as pd\n",
    "import pingouin as pg\n",
    "import plotly.graph_objects as go\n",
    "import ray\n",
    "import seaborn as sns\n",
    "from matplotlib.colors import to_rgb as rgb\n",
    "from plotly.subplots import make_subplots\n",
    "\n",
    "import EssentialEMGFuncs as ess\n",
    "import lineNdots as lnd\n",
    "import SMART_Funcs as SF\n",
    "\n",
    "ray.init(dashboard_host='127.0.0.1', ignore_reinit_error=True)\n",
    "save_fig, save_stats, save_data = False, False, False\n",
    "plot_fig = True"
   ]
  },
  {
   "cell_type": "code",
   "execution_count": 2,
   "metadata": {},
   "outputs": [],
   "source": [
    "# Setup variables\n",
    "SUBJS = {'young': [\"PS04\", \"PS05\", \"PS06\", \"PS07\", \"PS15\", \"PS16\", \"PS17\", \"PS18\", \"PS19\", \"PS20\", \"PS21\", \"PS22\",\n",
    "                   \"PS23\", \"PS24\", \"PS25\", \"PS26\", \"PS27\"],\n",
    "         'old': [\"PS08\", \"PS09\", \"PS10\", \"PS28\", \"PS29\", \"PS31\", \"PS32\", \"PS33\", \"PS34\", \"PS35\", \"PS36\"]\n",
    "         }\n",
    "CONDS = ['LME', 'LEI', 'RME', 'REI']\n",
    "BLOCKS = {'pre': [0], 'pert': [1, 3], 'catch': [2], 'post': [4]}\n",
    "DATA_PATH = './data/emg/'\n",
    "RESMAPLED_DATA = 'gaussian-resmped_young-old_raw-data.pickle'\n",
    "COACTIVATION_DATA = 'coactivation_young-and-old_resampled_perturb-recovery-steps.pickle'\n",
    "STEP_DATA = 'stepping_time_young-and-old.pickle'\n",
    "TESTS = {'perturbed': ['start', 'other'], 'recovery': ['other', 'end']}\n",
    "TARGET_PAIR = {\n",
    "    'left_step': {\n",
    "        'LTA-LSO': ['LSO', 'LTA'],\n",
    "        'LRF-LST': ['LRF', 'LST'],\n",
    "        'LAD-LPD': ['LPD', 'LAD'],\n",
    "        'RTA-RSO': ['RTA', 'RSO'],\n",
    "        'RRF-RST': ['RST', 'RRF'],\n",
    "        'RAD-RPD': ['RAD', 'RPD']\n",
    "    },\n",
    "    'right_step': {\n",
    "        'LTA-LSO': ['LTA', 'LSO'],\n",
    "        'LRF-LST': ['LST', 'LRF'],\n",
    "        'LAD-LPD': ['LAD', 'LPD'],\n",
    "        'RTA-RSO': ['RSO', 'RTA'],\n",
    "        'RRF-RST': ['RRF', 'RST'],\n",
    "        'RAD-RPD': ['RPD', 'RAD']\n",
    "    }\n",
    "}\n",
    "TP_NAMES = list(TARGET_PAIR['left_step'])\n",
    "\n",
    "# load the step times\n",
    "step_time = pkl.load(open(DATA_PATH + 'group_response/' + STEP_DATA, 'rb'))\n",
    "# load coactivation data from step 1\n",
    "coactivation = pkl.load(open(DATA_PATH + 'group_response/' + COACTIVATION_DATA, 'rb'))\n"
   ]
  },
  {
   "attachments": {},
   "cell_type": "markdown",
   "metadata": {},
   "source": [
    "## convert the co-contraction data to the SMART format\n",
    "Using the SMART toolbox and working with the kernel and step size we can find the suitable outputs for our analysis. "
   ]
  },
  {
   "cell_type": "code",
   "execution_count": 3,
   "metadata": {},
   "outputs": [],
   "source": [
    "# Convert the coactivation format to SMART short format\n",
    "smart_cols = ['subj_no', 'time'] + [p for p in TP_NAMES]\n",
    "metric_short = {t: {a: {c: {b: pd.DataFrame(columns=smart_cols) for b in BLOCKS} for c in CONDS} for a in SUBJS}\n",
    "                for t in TESTS}\n",
    "\n",
    "for t in TESTS:\n",
    "    for a in SUBJS:\n",
    "        for c in CONDS:\n",
    "            for b in BLOCKS:\n",
    "                for s in SUBJS[a]:\n",
    "                    try:\n",
    "                        strides = coactivation[t][c][s][b].index.tolist()\n",
    "                        temp_dict = {'subj_no': s, 'time': step_time[c][s].loc[strides, 'start'].values,\n",
    "                                     **{p: coactivation[t][c][s][b][p].values for p in TP_NAMES}}\n",
    "                        metric_short[t][a][c][b] = pd.concat(\n",
    "                            (metric_short[t][a][c][b], pd.DataFrame([temp_dict])), ignore_index=True)\n",
    "                    except Exception:\n",
    "                        print(f'there was a problem in {a}:{s}_{c}_{b}')"
   ]
  },
  {
   "attachments": {},
   "cell_type": "markdown",
   "metadata": {},
   "source": [
    "Note that we use `Ray` to make the processing parallel. If you choose to cahgne the `step_size` to a smaller number, it can take up to a couple of minutes (based on your computation power), to run the following steps"
   ]
  },
  {
   "cell_type": "code",
   "execution_count": 4,
   "metadata": {},
   "outputs": [],
   "source": [
    "# Let's do the SMART thing\n",
    "time_var = 'time'  # short format file spec\n",
    "# min and max time stamps for the different blocks\n",
    "time_lim = {'pre': [0, 120], 'pert': [120, 480], 'catch': [120, 480], 'post': [480, 600]}\n",
    "kernel_size, step_size = 16, 60  # smoothing params\n",
    "n_perms, baseline = 1000, 1  # permutation params\n",
    "sig_level = 0.05  # stats params\n",
    "l_color = {'pre': rgb('black'), 'pert': rgb('green'), 'catch': rgb('darkviolet'), 'post': rgb('dodgerblue')}\n",
    "# plotting params. \"l\": line, \"m\": marker, \"hist_res\": histogram resolution for permutation the distribution plot.\n",
    "l_width, ma_offset, m_size, label_size, hist_res = 2, 0.75, 10, 20, 100\n",
    "\n",
    "# pre-allocate variables\n",
    "no_subjs = {a: {c: {b: len(metric_short[t][a][c][b]) for b in BLOCKS} for c in CONDS} for a in SUBJS}\n",
    "all_times = {a: {c: {b: np.hstack(metric_short[t][a][c][b][time_var]) for b in BLOCKS} for c in CONDS} for a in SUBJS}\n",
    "time_vect = {b: np.arange(time_lim[b][0], time_lim[b][1], step_size) for b in BLOCKS}\n",
    "timeVect_ray = {b: ray.put(time_vect[b]) for b in BLOCKS}\n",
    "\n",
    "# smoothed data and weights.\n",
    "sm_data, sm_weights = [{t: {a: {c: {b: {p: np.zeros((no_subjs[a][c][b], len(time_vect[b]))) for p in TP_NAMES}\n",
    "                                    for b in BLOCKS} for c in CONDS} for a in SUBJS} for t in TESTS}\n",
    "                       for _ in range(2)]\n",
    "\n",
    "# permutation data weights.\n",
    "perm_d1, perm_w1, perm_d2, perm_w2 = [{t: {a: {c: {b: {p: np.zeros((no_subjs[a][c][b], len(time_vect[b]), n_perms))\n",
    "                                                      for p in TP_NAMES} for b in BLOCKS} for c in CONDS}\n",
    "                                          for a in SUBJS} for t in TESTS} for _ in range(4)]\n",
    "\n",
    "# ray smoothing and permute identifiers.\n",
    "sm_id, pm_id = [{t: {a: {c: {b: {p: {i: [] for i in np.arange(no_subjs[a][c][b])} for p in TP_NAMES} for b in BLOCKS}\n",
    "                         for c in CONDS} for a in SUBJS} for t in TESTS} for _ in range(2)]\n",
    "\n",
    "par_smooth = ray.remote(SF.gaussSmooth)\n",
    "par_permute = ray.remote(SF.permute)\n",
    "# run smoothing and permutation\n",
    "for t in TESTS:\n",
    "    for a in SUBJS:\n",
    "        for c in CONDS:\n",
    "            for b in BLOCKS:\n",
    "                for p in TP_NAMES:\n",
    "                    for i in np.arange(no_subjs[a][c][b]):\n",
    "                        # Sanity Check\n",
    "                        # sm_data[t][a][c][b][p][i,:], sm_weights[t][a][c][b][p][i, :] = SF.gaussSmooth(\n",
    "                        #     metric_short[t][a][c][b][time_var][i], metric_short[t][a][c][b][p][i], time_vect[b],\n",
    "                        #     kernel_size)\n",
    "                        # (perm_d1[t][a][c][b][p][i, :, :], perm_w1[t][a][c][b][p][i, :, :],\n",
    "                        #  perm_d2[t][a][c][b][p][i, :, :], perm_w2[t][a][c][b][p][i, :, :]) = SF.permute(\n",
    "                        #     metric_short[t][a][c][b][time_var][i], metric_short[t][a][c][b][p][i], newX=time_vect[b],\n",
    "                        #     sigma=kernel_size, nPerms=n_perms, baseline=baseline)\n",
    "\n",
    "                        sm_id[t][a][c][b][p][i] = par_smooth.remote(\n",
    "                            metric_short[t][a][c][b][time_var][i], metric_short[t][a][c][b][p][i], timeVect_ray[b],\n",
    "                            kernel_size)\n",
    "                        pm_id[t][a][c][b][p][i] = par_permute.remote(metric_short[t][a][c][b][time_var][i],\n",
    "                            metric_short[t][a][c][b][p][i], newX=timeVect_ray[b], sigma=kernel_size, nPerms=n_perms,\n",
    "                            baseline=baseline)\n"
   ]
  },
  {
   "cell_type": "code",
   "execution_count": 5,
   "metadata": {},
   "outputs": [],
   "source": [
    "# Get the Ray results\n",
    "for t in TESTS:\n",
    "    for a in SUBJS:\n",
    "        for c in CONDS:\n",
    "            for b in BLOCKS:\n",
    "                for p in TP_NAMES:\n",
    "                    for i in np.arange(no_subjs[a][c][b]):\n",
    "                        try:\n",
    "                            sm_id[t][a][c][b][p][i] = ray.get(sm_id[t][a][c][b][p][i])\n",
    "                            pm_id[t][a][c][b][p][i] = ray.get(pm_id[t][a][c][b][p][i])\n",
    "                            sm_data[t][a][c][b][p][i, :], sm_weights[t][a][c][b][p][i, :] = [\n",
    "                                sm_id[t][a][c][b][p][i][k] for k in range(2)]\n",
    "                            (perm_d1[t][a][c][b][p][i, :, :], perm_w1[t][a][c][b][p][i, :, :],\n",
    "                             perm_d2[t][a][c][b][p][i, :, :], perm_w2[t][a][c][b][p][i, :, :]) = [\n",
    "                                pm_id[t][a][c][b][p][i][k] for k in range(4)]\n",
    "                        except Exception:\n",
    "                            print(f'smoothing failed for {a}_subject{i}_{c}_{b}_{t}')\n",
    "\n",
    "del sm_id, pm_id  # deleting is required to free up space from RAY processing\n"
   ]
  },
  {
   "cell_type": "code",
   "execution_count": 6,
   "metadata": {},
   "outputs": [],
   "source": [
    "# Quantify weighted coactivation average and the CI\n",
    "weighted_average, weight_sum, sigInd_inClust, ensemTval_inClust, conf95, perm_distr, sig_ther, stat_id = [{t: {a: {c:\n",
    "    {b: [] for b in BLOCKS} for c in CONDS} for a in SUBJS} for t in TESTS} for _ in range(8)]\n",
    "stats = True  # whether to run stats or not. Needed if you want to have rugplots\n",
    "\n",
    "\n",
    "@ray.remote\n",
    "def run_stats(sm_data, sm_weights, analysis_type, sig_level, stats=False, baseline=0, perm_d1=None, perm_d2=None,\n",
    "              perm_w1=None, perm_w2=None):\n",
    "    weighted_average, weights, sigInd_inClust, ensemTval_inClust, conf95, perm_distr, sig_ther = [\n",
    "        {t: [] for t in analysis_type} for _ in range(7)]\n",
    "    for t in analysis_type:\n",
    "        weighted_average[t], weights[t] = np.average(sm_data[t], weights=sm_weights[t], axis=0, returned=True)\n",
    "        conf95[t] = ess.bootstrap_confidence_interval(\n",
    "            sm_data[t], weights=sm_weights[t], stat_fun='weighted_average', ci=1 - sig_level)\n",
    "        if stats:\n",
    "            sigInd_inClust[t], ensemTval_inClust[t] = SF.clusterStat_oneSamp(\n",
    "                sm_data[t], sm_weights[t], baseline, sig_level)\n",
    "            perm_distr[t] = SF.permuteClusterStat(perm_d1[t], perm_d2[t], perm_w1[t], perm_w2[t], sig_level)\n",
    "            sig_ther[t] = np.percentile(perm_distr[t], 100 - (sig_level * 100))\n",
    "    if not stats:\n",
    "        return weighted_average, weights, conf95\n",
    "    else:\n",
    "        return weighted_average, weights, conf95, sigInd_inClust, ensemTval_inClust, perm_distr, sig_ther\n",
    "\n",
    "\n",
    "for t in TESTS:\n",
    "    for a in SUBJS:\n",
    "        for c in CONDS:\n",
    "            for b in BLOCKS:\n",
    "                if not stats:\n",
    "                    stat_id[t][a][c][b] = run_stats.remote(\n",
    "                        sm_data[t][a][c][b], sm_weights[t][a][c][b], TP_NAMES, sig_level)\n",
    "                else:\n",
    "                    stat_id[t][a][c][b] = run_stats.remote(\n",
    "                        sm_data[t][a][c][b], sm_weights[t][a][c][b], TP_NAMES,\n",
    "                        sig_level, stats=stats, baseline=1,\n",
    "                        perm_d1=perm_d1[t][a][c][b],\n",
    "                        perm_d2=perm_d2[t][a][c][b],\n",
    "                        perm_w1=perm_w1[t][a][c][b],\n",
    "                        perm_w2=perm_w2[t][a][c][b])\n",
    "for t in TESTS:\n",
    "    for a in SUBJS:\n",
    "        for c in CONDS:\n",
    "            for b in BLOCKS:\n",
    "                stat_id[t][a][c][b] = ray.get(stat_id[t][a][c][b])\n",
    "                if not stats:\n",
    "                    weighted_average[t][a][c][b], weight_sum[t][a][c][b], conf95[t][a][c][b] = [\n",
    "                        stat_id[t][a][c][b][i] for i in range(3)]\n",
    "                else:\n",
    "                    (weighted_average[t][a][c][b], weight_sum[t][a][c][b], conf95[t][a][c][b],\n",
    "                     sigInd_inClust[t][a][c][b], ensemTval_inClust[t][a][c][b], perm_distr[t][a][c][b],\n",
    "                     sig_ther[t][a][c][b]) = [stat_id[t][a][c][b][i] for i in range(7)]\n",
    "\n",
    "del stat_id"
   ]
  },
  {
   "attachments": {},
   "cell_type": "markdown",
   "metadata": {},
   "source": [
    "## make heatmap with the CI index.\n",
    "CI index deviation from \"one\" is the most important feature of the CI. We can summarize it in a heatmap with rows that are representative of the muscle pairs and steps and the columns that are representative of time. Similar to Iturralde and Torres-Oviedo 2019 eNeuro. Here, each column is a minute.\n",
    "To get per-minute data, we just need to change the kernel size in the SMART section of the code above. After that, the following lines are a shear reorganization of the data."
   ]
  },
  {
   "cell_type": "code",
   "execution_count": 7,
   "metadata": {},
   "outputs": [
    {
     "data": {
      "application/vnd.plotly.v1+json": {
       "config": {
        "plotlyServerURL": "https://plot.ly"
       },
       "data": [
        {
         "colorscale": [
          [
           0,
           "rgb(103,0,31)"
          ],
          [
           0.1,
           "rgb(178,24,43)"
          ],
          [
           0.2,
           "rgb(214,96,77)"
          ],
          [
           0.3,
           "rgb(244,165,130)"
          ],
          [
           0.4,
           "rgb(253,219,199)"
          ],
          [
           0.5,
           "rgb(247,247,247)"
          ],
          [
           0.6,
           "rgb(209,229,240)"
          ],
          [
           0.7,
           "rgb(146,197,222)"
          ],
          [
           0.8,
           "rgb(67,147,195)"
          ],
          [
           0.9,
           "rgb(33,102,172)"
          ],
          [
           1,
           "rgb(5,48,97)"
          ]
         ],
         "reversescale": true,
         "text": [
          [
           " ",
           " ",
           " ",
           " ",
           " ",
           " ",
           " ",
           " ",
           " ",
           "•"
          ],
          [
           " ",
           " ",
           "•",
           "•",
           "•",
           "•",
           "•",
           "•",
           " ",
           " "
          ],
          [
           " ",
           " ",
           "•",
           "•",
           "•",
           "•",
           " ",
           " ",
           " ",
           " "
          ],
          [
           " ",
           " ",
           " ",
           " ",
           " ",
           " ",
           "•",
           "•",
           " ",
           " "
          ],
          [
           "•",
           "•",
           "•",
           "•",
           "•",
           "•",
           "•",
           "•",
           "•",
           "•"
          ],
          [
           "•",
           "•",
           "•",
           "•",
           "•",
           "•",
           "•",
           "•",
           "•",
           "•"
          ],
          [
           "•",
           "•",
           "•",
           "•",
           " ",
           " ",
           " ",
           " ",
           " ",
           " "
          ],
          [
           "•",
           "•",
           "•",
           "•",
           "•",
           "•",
           "•",
           "•",
           "•",
           "•"
          ],
          [
           "•",
           "•",
           "•",
           "•",
           "•",
           "•",
           "•",
           "•",
           " ",
           "•"
          ],
          [
           " ",
           " ",
           "•",
           "•",
           "•",
           "•",
           "•",
           "•",
           " ",
           "•"
          ],
          [
           "•",
           "•",
           "•",
           "•",
           "•",
           "•",
           "•",
           "•",
           " ",
           " "
          ],
          [
           " ",
           " ",
           "•",
           "•",
           "•",
           "•",
           "•",
           "•",
           "•",
           "•"
          ]
         ],
         "textfont": {
          "color": "black",
          "size": 20
         },
         "texttemplate": "%{text}",
         "type": "heatmap",
         "x": [
          1,
          2,
          3,
          4,
          5,
          6,
          7,
          8,
          9,
          10
         ],
         "xaxis": "x",
         "xgap": 2,
         "y": [
          "r_RAD-RPD",
          "r_RRF-RST",
          "r_RTA-RSO",
          "r_LAD-LPD",
          "r_LRF-LST",
          "r_LTA-LSO",
          "p_RAD-RPD",
          "p_RRF-RST",
          "p_RTA-RSO",
          "p_LAD-LPD",
          "p_LRF-LST",
          "p_LTA-LSO"
         ],
         "yaxis": "y",
         "ygap": 2,
         "z": [
          [
           0.9107587859591786,
           0.9037633270331176,
           0.9815519406036775,
           0.9626404182781362,
           0.9462840667403577,
           0.946485520114551,
           0.9586868818768781,
           0.8834380433333909,
           0.8725427903499919,
           0.8379528194875442
          ],
          [
           0.9266413110917397,
           0.9032446848587523,
           0.8380404910676877,
           0.8536097585819372,
           0.8657170851838851,
           0.8698658433020754,
           0.8900358457262941,
           0.8794829462571933,
           0.91793770905527,
           0.9436374769470726
          ],
          [
           0.9186911785503883,
           0.9283422300049522,
           0.8273391103305063,
           0.8045763801616684,
           0.8160043804597245,
           0.8497980238032683,
           0.8608739028633465,
           0.8492979899516359,
           0.8541940306616815,
           0.8876868483867009
          ],
          [
           0.8755748083365286,
           0.8534049249148731,
           0.9057206558489572,
           0.9325510986599791,
           0.9778283091094018,
           0.9418884788725157,
           0.8543598829167629,
           0.8813092077320791,
           0.8906448131250809,
           0.8835341968703232
          ],
          [
           0.8648814001237292,
           0.8465275122647918,
           0.8321211276414691,
           0.909968169661439,
           0.9043090698241224,
           0.9002966320778149,
           0.8725359742533185,
           0.8649523314043802,
           0.8515068668084981,
           0.8838851789323825
          ],
          [
           0.7721548139468077,
           0.770357436756676,
           0.84761809692266,
           0.8823883020721269,
           0.9006623841119944,
           0.8954031193364315,
           0.8959156737443098,
           0.8900185876936682,
           0.8602557340257271,
           0.8503229645295353
          ],
          [
           0.8431222175376525,
           0.8601456931773653,
           0.8367878907407277,
           0.8453502280969293,
           0.8806760711234907,
           0.893780810842149,
           0.8718716467775178,
           0.9068745638235565,
           1.0168642541092197,
           0.9718465618883887
          ],
          [
           0.7761127103127177,
           0.8151515446009513,
           0.8114410028112506,
           0.8122274752127349,
           0.7988304653866907,
           0.8045813360530188,
           0.7897202296695358,
           0.824951517664573,
           0.865362830615456,
           0.8680383665056375
          ],
          [
           0.8071465259710838,
           0.7740520838636201,
           0.7269725301399893,
           0.8145517701119653,
           0.8350124816530695,
           0.8163749846272739,
           0.7907430683100136,
           0.8161278673045484,
           0.9392408359458112,
           0.891926014952974
          ],
          [
           0.8454483316210457,
           0.9197765859668457,
           0.7340035053424667,
           0.7272995491489586,
           0.7514944240188601,
           0.7714375201223941,
           0.8003985602715898,
           0.7520441201136054,
           0.8921749456163827,
           0.8482707741890352
          ],
          [
           0.8947610533692699,
           0.8959477434548352,
           0.8400336077242647,
           0.7988405550916923,
           0.8162303230595873,
           0.8258452571085884,
           0.8361639562134079,
           0.8427216111085963,
           0.9215097502347938,
           0.9524813136534029
          ],
          [
           0.9418954271048272,
           0.9260818580702829,
           0.8275630634401723,
           0.7790821954303239,
           0.7584503011856865,
           0.7547354494729938,
           0.7427440298939179,
           0.7454472349855581,
           0.8455241230537042,
           0.8881743099399517
          ]
         ],
         "zmax": 1.3,
         "zmin": 0.7
        },
        {
         "colorscale": [
          [
           0,
           "rgb(103,0,31)"
          ],
          [
           0.1,
           "rgb(178,24,43)"
          ],
          [
           0.2,
           "rgb(214,96,77)"
          ],
          [
           0.3,
           "rgb(244,165,130)"
          ],
          [
           0.4,
           "rgb(253,219,199)"
          ],
          [
           0.5,
           "rgb(247,247,247)"
          ],
          [
           0.6,
           "rgb(209,229,240)"
          ],
          [
           0.7,
           "rgb(146,197,222)"
          ],
          [
           0.8,
           "rgb(67,147,195)"
          ],
          [
           0.9,
           "rgb(33,102,172)"
          ],
          [
           1,
           "rgb(5,48,97)"
          ]
         ],
         "reversescale": true,
         "text": [
          [
           " ",
           " ",
           " ",
           " ",
           " ",
           " ",
           " ",
           " ",
           " ",
           " "
          ],
          [
           " ",
           " ",
           " ",
           " ",
           " ",
           "•",
           "•",
           "•",
           "•",
           " "
          ],
          [
           " ",
           " ",
           " ",
           " ",
           " ",
           " ",
           " ",
           " ",
           " ",
           " "
          ],
          [
           "•",
           "•",
           " ",
           " ",
           " ",
           " ",
           " ",
           " ",
           " ",
           " "
          ],
          [
           " ",
           " ",
           " ",
           " ",
           " ",
           " ",
           " ",
           " ",
           " ",
           " "
          ],
          [
           "•",
           "•",
           "•",
           "•",
           "•",
           "•",
           "•",
           "•",
           "•",
           "•"
          ],
          [
           "•",
           "•",
           " ",
           " ",
           " ",
           " ",
           " ",
           " ",
           " ",
           " "
          ],
          [
           "•",
           "•",
           " ",
           " ",
           " ",
           " ",
           " ",
           " ",
           " ",
           " "
          ],
          [
           " ",
           " ",
           "•",
           "•",
           "•",
           "•",
           "•",
           "•",
           " ",
           " "
          ],
          [
           " ",
           " ",
           "•",
           "•",
           "•",
           "•",
           "•",
           "•",
           "•",
           " "
          ],
          [
           " ",
           " ",
           " ",
           " ",
           " ",
           "•",
           "•",
           "•",
           " ",
           " "
          ],
          [
           "•",
           "•",
           "•",
           "•",
           "•",
           "•",
           "•",
           "•",
           "•",
           "•"
          ]
         ],
         "textfont": {
          "color": "black",
          "size": 20
         },
         "texttemplate": "%{text}",
         "type": "heatmap",
         "x": [
          1,
          2,
          3,
          4,
          5,
          6,
          7,
          8,
          9,
          10
         ],
         "xaxis": "x2",
         "xgap": 2,
         "y": [
          "r_RAD-RPD",
          "r_RRF-RST",
          "r_RTA-RSO",
          "r_LAD-LPD",
          "r_LRF-LST",
          "r_LTA-LSO",
          "p_RAD-RPD",
          "p_RRF-RST",
          "p_RTA-RSO",
          "p_LAD-LPD",
          "p_LRF-LST",
          "p_LTA-LSO"
         ],
         "yaxis": "y2",
         "ygap": 2,
         "z": [
          [
           1.0725685155405211,
           1.0726388497914605,
           1.0675217022033445,
           0.8680719479361065,
           0.8416315038795179,
           0.8381646186830183,
           0.8735935819405451,
           0.8850980187070036,
           0.8648909590107965,
           0.9468444878527286
          ],
          [
           1.0813158561238763,
           1.0609876278221078,
           0.99318658601918,
           0.9363863855453912,
           0.9385181821526919,
           0.9051927500347942,
           0.9242955459703613,
           0.9235764849848909,
           0.9149089260510926,
           0.9349892275460949
          ],
          [
           0.9974300852900484,
           1.026420463024192,
           1.0618731579974245,
           1.0113336989438626,
           1.0081253786697297,
           1.0265053620654843,
           1.0058592559545592,
           0.9642054519758013,
           0.9577663122209286,
           0.9611928643337301
          ],
          [
           0.7265709610523036,
           0.8433854528613927,
           0.9471383802668839,
           1.0926702565571136,
           1.1262042586533905,
           1.0694936276432438,
           1.0750521617104234,
           1.1105960745603274,
           1.0472648462610898,
           0.9080578397157032
          ],
          [
           0.8454379541737801,
           0.8663985408035593,
           0.8752609095761594,
           0.8822686871585912,
           0.9274579297386117,
           0.9510218637755312,
           0.9333417667556131,
           0.9384857401601792,
           0.9109413978424149,
           0.9262783504849026
          ],
          [
           0.7600452723260156,
           0.7305491382444089,
           0.7474738059058776,
           0.7925865803257466,
           0.8007495997603858,
           0.810338788843404,
           0.7977840868496885,
           0.7764215274396142,
           0.7817921520819061,
           0.7998116292613372
          ],
          [
           0.7108573938426037,
           0.7702612872816959,
           0.9042448871637829,
           1.0872457948498464,
           1.1028553557429912,
           1.08560437575581,
           1.0531140026792996,
           1.0638321284802468,
           1.1468497755823264,
           1.035525757912187
          ],
          [
           0.8186459306007488,
           0.8133073886641153,
           0.8981750477136853,
           0.8945944629367832,
           0.9062456789429826,
           0.9598713329871784,
           0.956692723204001,
           0.969155225508067,
           0.9523537259176175,
           0.9928529230519821
          ],
          [
           0.8444997122513913,
           0.8004946507563301,
           0.7343404484649809,
           0.7555437322651462,
           0.7467972988323335,
           0.7469447660987094,
           0.7773720273131146,
           0.7829403750496912,
           0.7929482522519482,
           0.8114832548415527
          ],
          [
           0.9561842989515587,
           0.9574903761638747,
           0.6749035753852665,
           0.6106350895142371,
           0.6524639071171388,
           0.720929537898802,
           0.714373248536785,
           0.7026931607033818,
           0.8075963701571655,
           0.9166713286075219
          ],
          [
           1.0259896368613968,
           0.938533198606592,
           0.9167162505126614,
           0.8773743967784106,
           0.8798349966066397,
           0.8713538600150778,
           0.8729412784119545,
           0.8876082288903141,
           0.8903070771546989,
           0.9626901602155786
          ],
          [
           0.8917220926333368,
           0.8750990528146367,
           0.8181915094364348,
           0.816923512395593,
           0.7931131942536599,
           0.7843670422938931,
           0.7741619158708408,
           0.791701271302801,
           0.8200794140464406,
           0.8277873190986813
          ]
         ],
         "zmax": 1.3,
         "zmin": 0.7
        },
        {
         "colorscale": [
          [
           0,
           "rgb(103,0,31)"
          ],
          [
           0.1,
           "rgb(178,24,43)"
          ],
          [
           0.2,
           "rgb(214,96,77)"
          ],
          [
           0.3,
           "rgb(244,165,130)"
          ],
          [
           0.4,
           "rgb(253,219,199)"
          ],
          [
           0.5,
           "rgb(247,247,247)"
          ],
          [
           0.6,
           "rgb(209,229,240)"
          ],
          [
           0.7,
           "rgb(146,197,222)"
          ],
          [
           0.8,
           "rgb(67,147,195)"
          ],
          [
           0.9,
           "rgb(33,102,172)"
          ],
          [
           1,
           "rgb(5,48,97)"
          ]
         ],
         "reversescale": true,
         "text": [
          [
           " ",
           " ",
           " ",
           " ",
           " ",
           " ",
           " ",
           " ",
           " ",
           " "
          ],
          [
           " ",
           " ",
           "•",
           "•",
           "•",
           "•",
           "•",
           "•",
           "•",
           "•"
          ],
          [
           " ",
           " ",
           "•",
           "•",
           "•",
           "•",
           "•",
           "•",
           "•",
           "•"
          ],
          [
           "•",
           "•",
           "•",
           "•",
           "•",
           "•",
           " ",
           " ",
           " ",
           " "
          ],
          [
           "•",
           "•",
           "•",
           "•",
           "•",
           "•",
           "•",
           "•",
           "•",
           "•"
          ],
          [
           "•",
           "•",
           "•",
           "•",
           "•",
           "•",
           "•",
           "•",
           "•",
           "•"
          ],
          [
           "•",
           "•",
           "•",
           "•",
           "•",
           "•",
           "•",
           "•",
           " ",
           " "
          ],
          [
           "•",
           "•",
           "•",
           "•",
           "•",
           "•",
           "•",
           "•",
           "•",
           "•"
          ],
          [
           "•",
           "•",
           " ",
           " ",
           " ",
           " ",
           " ",
           " ",
           " ",
           " "
          ],
          [
           " ",
           " ",
           "•",
           "•",
           "•",
           "•",
           "•",
           "•",
           "•",
           "•"
          ],
          [
           " ",
           " ",
           "•",
           "•",
           "•",
           "•",
           "•",
           "•",
           " ",
           " "
          ],
          [
           " ",
           " ",
           "•",
           "•",
           "•",
           "•",
           "•",
           "•",
           "•",
           "•"
          ]
         ],
         "textfont": {
          "color": "black",
          "size": 20
         },
         "texttemplate": "%{text}",
         "type": "heatmap",
         "x": [
          1,
          2,
          3,
          4,
          5,
          6,
          7,
          8,
          9,
          10
         ],
         "xaxis": "x3",
         "xgap": 2,
         "y": [
          "r_RAD-RPD",
          "r_RRF-RST",
          "r_RTA-RSO",
          "r_LAD-LPD",
          "r_LRF-LST",
          "r_LTA-LSO",
          "p_RAD-RPD",
          "p_RRF-RST",
          "p_RTA-RSO",
          "p_LAD-LPD",
          "p_LRF-LST",
          "p_LTA-LSO"
         ],
         "yaxis": "y3",
         "ygap": 2,
         "z": [
          [
           0.890194921875021,
           0.941116154181609,
           0.9868591577923111,
           0.9568230710804274,
           0.8916545867097961,
           0.8807432552295283,
           0.8670948350662022,
           0.9375817175922249,
           0.9499307478908003,
           0.8896233550610231
          ],
          [
           0.9583289508283694,
           0.9150993423850478,
           0.8928725181703242,
           0.8910615100980405,
           0.8673315515079517,
           0.8732972927620332,
           0.9121858109819315,
           0.917282097885708,
           0.8578429894615878,
           0.8831469988993732
          ],
          [
           0.9606084863998744,
           0.9391182955400713,
           0.8366923298676446,
           0.8226487849007851,
           0.8193097947476056,
           0.8152588623695272,
           0.7990435151660459,
           0.7945627087632856,
           0.8432000517176149,
           0.8717015200696241
          ],
          [
           0.7939589750124156,
           0.7874544941989178,
           0.8025306946825514,
           0.8365761511809198,
           0.8611533515319868,
           0.8614831137107553,
           0.9349654881501649,
           0.9981038439212653,
           1.006064507368681,
           0.994653518472479
          ],
          [
           0.8659084507783004,
           0.8628224838325331,
           0.8836072346672634,
           0.8841796591648683,
           0.8717832969264682,
           0.8938731712448416,
           0.8711764825017946,
           0.8836845706476384,
           0.8624732355778362,
           0.8934835088855273
          ],
          [
           0.7732387060180467,
           0.7685746140048071,
           0.8153772909600169,
           0.8801554027686115,
           0.8404829675543402,
           0.8432887621169867,
           0.842948459917297,
           0.8449581960029958,
           0.8090312200003698,
           0.8246846692379882
          ],
          [
           0.8328842057050593,
           0.8585403922437803,
           0.8071772516662724,
           0.7849879271992886,
           0.7784305114299026,
           0.7968483698635037,
           0.8090609325965078,
           0.8308791096053867,
           0.901082483839723,
           0.9016139472588683
          ],
          [
           0.8132663501742217,
           0.8345067292275689,
           0.7860602320482576,
           0.7885427131574051,
           0.7695911503892757,
           0.7892394753441373,
           0.7901747427880755,
           0.7984325837750981,
           0.8794776048663709,
           0.8839417686742526
          ],
          [
           0.7875879988937579,
           0.7818682085346187,
           0.877872758162708,
           0.9387011169131491,
           0.9160034846732318,
           0.9259443914691696,
           0.9433430736194661,
           0.9842998392458331,
           0.994993963491937,
           0.9275603896499356
          ],
          [
           0.9141862922832269,
           0.9150363079839136,
           0.9013017815533542,
           0.8862736547924511,
           0.8463826170700812,
           0.8341527883556903,
           0.7901832332453861,
           0.7632281217220238,
           0.7828522223487093,
           0.7963595604710726
          ],
          [
           0.9429325096749532,
           0.9192693052273351,
           0.8009905472043537,
           0.818219055121918,
           0.8235527705366777,
           0.8178517052490527,
           0.8445057422801366,
           0.8329184030475272,
           0.9460659220835792,
           0.9406392753535641
          ],
          [
           0.9431010641657069,
           0.9334466009603076,
           0.8004165605304017,
           0.7823068830523034,
           0.775734724718542,
           0.7758013550293612,
           0.7805865367441984,
           0.8068615549246957,
           0.8761379872052276,
           0.8931497687791505
          ]
         ],
         "zmax": 1.3,
         "zmin": 0.7
        },
        {
         "colorscale": [
          [
           0,
           "rgb(103,0,31)"
          ],
          [
           0.1,
           "rgb(178,24,43)"
          ],
          [
           0.2,
           "rgb(214,96,77)"
          ],
          [
           0.3,
           "rgb(244,165,130)"
          ],
          [
           0.4,
           "rgb(253,219,199)"
          ],
          [
           0.5,
           "rgb(247,247,247)"
          ],
          [
           0.6,
           "rgb(209,229,240)"
          ],
          [
           0.7,
           "rgb(146,197,222)"
          ],
          [
           0.8,
           "rgb(67,147,195)"
          ],
          [
           0.9,
           "rgb(33,102,172)"
          ],
          [
           1,
           "rgb(5,48,97)"
          ]
         ],
         "reversescale": true,
         "text": [
          [
           " ",
           " ",
           " ",
           " ",
           " ",
           " ",
           " ",
           " ",
           " ",
           " "
          ],
          [
           " ",
           " ",
           " ",
           " ",
           " ",
           " ",
           " ",
           " ",
           " ",
           " "
          ],
          [
           " ",
           " ",
           " ",
           " ",
           " ",
           " ",
           " ",
           " ",
           " ",
           " "
          ],
          [
           "•",
           "•",
           " ",
           " ",
           " ",
           " ",
           " ",
           " ",
           " ",
           " "
          ],
          [
           "•",
           "•",
           " ",
           " ",
           " ",
           " ",
           " ",
           " ",
           " ",
           " "
          ],
          [
           "•",
           "•",
           "•",
           "•",
           "•",
           "•",
           "•",
           "•",
           " ",
           " "
          ],
          [
           "•",
           "•",
           " ",
           " ",
           "•",
           "•",
           "•",
           "•",
           " ",
           " "
          ],
          [
           "•",
           "•",
           "•",
           "•",
           "•",
           "•",
           "•",
           " ",
           " ",
           " "
          ],
          [
           " ",
           " ",
           " ",
           " ",
           " ",
           " ",
           " ",
           " ",
           " ",
           " "
          ],
          [
           " ",
           " ",
           " ",
           " ",
           " ",
           " ",
           " ",
           " ",
           " ",
           " "
          ],
          [
           " ",
           " ",
           "•",
           "•",
           "•",
           "•",
           "•",
           "•",
           " ",
           " "
          ],
          [
           "•",
           " ",
           " ",
           " ",
           " ",
           " ",
           "•",
           "•",
           "•",
           "•"
          ]
         ],
         "textfont": {
          "color": "black",
          "size": 20
         },
         "texttemplate": "%{text}",
         "type": "heatmap",
         "x": [
          1,
          2,
          3,
          4,
          5,
          6,
          7,
          8,
          9,
          10
         ],
         "xaxis": "x4",
         "xgap": 2,
         "y": [
          "r_RAD-RPD",
          "r_RRF-RST",
          "r_RTA-RSO",
          "r_LAD-LPD",
          "r_LRF-LST",
          "r_LTA-LSO",
          "p_RAD-RPD",
          "p_RRF-RST",
          "p_RTA-RSO",
          "p_LAD-LPD",
          "p_LRF-LST",
          "p_LTA-LSO"
         ],
         "yaxis": "y4",
         "ygap": 2,
         "z": [
          [
           1.1068656208286363,
           1.0486596083037696,
           1.0216536882771137,
           1.0081353768061503,
           1.0960310962857551,
           1.1267946623040839,
           1.091635275255396,
           1.043469923381708,
           1.0855135052859324,
           0.9837919492918368
          ],
          [
           1.1048044304758164,
           1.0568377996699954,
           1.0038297187027074,
           1.0122664215584514,
           1.008537553667999,
           1.0253803289477303,
           1.0327020420732589,
           0.9983124173674154,
           1.00884841216078,
           1.0344770805001662
          ],
          [
           0.9435360106938375,
           0.9744881655473324,
           1.02536186123068,
           0.997499846803373,
           0.9698022209883965,
           0.895056302716851,
           0.915951106432115,
           0.8738836636424245,
           0.9149474237264916,
           0.8878308783370391
          ],
          [
           0.6251635890321535,
           0.8034256935424552,
           0.8953173423430341,
           0.9915892252943452,
           0.973408224326008,
           0.9912540451898462,
           0.9803213873502289,
           0.9940241940722169,
           1.0241755287992034,
           1.0719717147258954
          ],
          [
           0.7916048381615758,
           0.8156530011551294,
           0.83760789455966,
           0.860909184221425,
           0.8742056003216574,
           0.8887243718729494,
           0.9173122721014477,
           0.9197946651161623,
           0.9787054894779836,
           0.9656783092844657
          ],
          [
           0.7732828271794363,
           0.7469267219674947,
           0.7145471259063433,
           0.7363287524071485,
           0.729069098156738,
           0.7503401586210828,
           0.74757401448094,
           0.7929186730126743,
           0.8694171535886197,
           0.9439507593063007
          ],
          [
           0.7024465708183382,
           0.750362587215402,
           0.7852019189680078,
           0.8637471408430953,
           0.7945026092458591,
           0.7619932082150591,
           0.8560989647711356,
           0.8888457991007549,
           0.9882723446260857,
           1.052868918149443
          ],
          [
           0.8272740240173453,
           0.8289667024463884,
           0.8417313632644308,
           0.8387030350044228,
           0.8405363981767017,
           0.8719660408522273,
           0.8892651921708244,
           0.9142490153850071,
           0.9759448333821755,
           0.9933044753662071
          ],
          [
           0.8752094650396923,
           0.8416432418204604,
           0.802516983740307,
           0.843795047721619,
           0.8956423168555202,
           0.9346868439805744,
           0.8908327578350638,
           0.9551026323515013,
           0.9584880676047525,
           0.9722922823599623
          ],
          [
           0.9615435809463592,
           0.9151359908496887,
           0.897369719844846,
           0.8710178124510918,
           0.8857152547879131,
           0.8904057593471013,
           0.9046519983229874,
           0.9249848720975439,
           0.9051377945024671,
           0.9096998880143324
          ],
          [
           1.0569664386721054,
           0.9980127687746193,
           0.8833103300626342,
           0.822932734358618,
           0.8596729656904658,
           0.869828642774562,
           0.8699102303786982,
           0.8881693725252954,
           0.9657161672870433,
           0.9820078083073981
          ],
          [
           0.8361097671040385,
           0.8896713218068583,
           0.8480236309174021,
           0.9122515375335807,
           0.9047213939480477,
           0.8869305523203502,
           0.8539591105315085,
           0.8091380727685461,
           0.797778467912965,
           0.7965081069322344
          ]
         ],
         "zmax": 1.3,
         "zmin": 0.7
        },
        {
         "colorscale": [
          [
           0,
           "rgb(103,0,31)"
          ],
          [
           0.1,
           "rgb(178,24,43)"
          ],
          [
           0.2,
           "rgb(214,96,77)"
          ],
          [
           0.3,
           "rgb(244,165,130)"
          ],
          [
           0.4,
           "rgb(253,219,199)"
          ],
          [
           0.5,
           "rgb(247,247,247)"
          ],
          [
           0.6,
           "rgb(209,229,240)"
          ],
          [
           0.7,
           "rgb(146,197,222)"
          ],
          [
           0.8,
           "rgb(67,147,195)"
          ],
          [
           0.9,
           "rgb(33,102,172)"
          ],
          [
           1,
           "rgb(5,48,97)"
          ]
         ],
         "reversescale": true,
         "text": [
          [
           "•",
           "•",
           " ",
           " ",
           " ",
           " ",
           " ",
           " ",
           "•",
           "•"
          ],
          [
           "•",
           "•",
           "•",
           "•",
           "•",
           "•",
           "•",
           "•",
           "•",
           "•"
          ],
          [
           "•",
           "•",
           " ",
           " ",
           " ",
           "•",
           "•",
           "•",
           " ",
           " "
          ],
          [
           "•",
           " ",
           " ",
           " ",
           " ",
           " ",
           " ",
           " ",
           "•",
           "•"
          ],
          [
           "•",
           "•",
           "•",
           "•",
           "•",
           "•",
           "•",
           "•",
           " ",
           " "
          ],
          [
           " ",
           " ",
           " ",
           "•",
           "•",
           "•",
           "•",
           "•",
           " ",
           " "
          ],
          [
           " ",
           " ",
           "•",
           "•",
           "•",
           "•",
           "•",
           "•",
           "•",
           "•"
          ],
          [
           "•",
           "•",
           "•",
           "•",
           "•",
           "•",
           "•",
           "•",
           "•",
           "•"
          ],
          [
           " ",
           " ",
           "•",
           "•",
           "•",
           "•",
           "•",
           "•",
           "•",
           "•"
          ],
          [
           "•",
           "•",
           "•",
           "•",
           "•",
           "•",
           "•",
           "•",
           " ",
           " "
          ],
          [
           "•",
           "•",
           "•",
           "•",
           "•",
           "•",
           "•",
           "•",
           "•",
           " "
          ],
          [
           "•",
           "•",
           "•",
           "•",
           "•",
           "•",
           "•",
           "•",
           "•",
           "•"
          ]
         ],
         "textfont": {
          "color": "black",
          "size": 20
         },
         "texttemplate": "%{text}",
         "type": "heatmap",
         "x": [
          1,
          2,
          3,
          4,
          5,
          6,
          7,
          8,
          9,
          10
         ],
         "xaxis": "x5",
         "xgap": 2,
         "y": [
          "r_RAD-RPD",
          "r_RRF-RST",
          "r_RTA-RSO",
          "r_LAD-LPD",
          "r_LRF-LST",
          "r_LTA-LSO",
          "p_RAD-RPD",
          "p_RRF-RST",
          "p_RTA-RSO",
          "p_LAD-LPD",
          "p_LRF-LST",
          "p_LTA-LSO"
         ],
         "yaxis": "y5",
         "ygap": 2,
         "z": [
          [
           0.8207522154805075,
           0.8584867574421603,
           0.8909081747865195,
           0.8887957789559094,
           0.9213540030014931,
           0.9189629098400514,
           0.9124594918797391,
           0.9065642696909405,
           0.9038548529347052,
           0.9086698943833649
          ],
          [
           0.8017549085738714,
           0.8021765985940579,
           0.798051555745072,
           0.7899665658357644,
           0.8145402921560158,
           0.8048507391771267,
           0.824745069001224,
           0.8372769884724863,
           0.8456929743087185,
           0.8756740629876913
          ],
          [
           0.8707220598021499,
           0.8691256745612671,
           0.9248076899788913,
           0.8680066924019388,
           0.8990676245128729,
           0.8831710377459595,
           0.9093861420617453,
           0.8819343794776798,
           0.9195257816949979,
           0.9168962012660725
          ],
          [
           0.8380738647523064,
           0.9014894415137324,
           0.9412960134029801,
           0.9323569534768986,
           0.9453462513277977,
           0.9740065697601006,
           0.9495492086161362,
           0.9098668773156537,
           0.8567084687554888,
           0.8780117657312368
          ],
          [
           0.9149169220088803,
           0.9065471147506861,
           0.8938321313703149,
           0.8891162400337863,
           0.8705850890985751,
           0.8848094761068465,
           0.9113406043046425,
           0.9083446605763892,
           0.9625030962813542,
           0.9859704001748478
          ],
          [
           0.958571537643717,
           0.9439233063356458,
           0.9078842567436509,
           0.8686149464849791,
           0.8351452539440359,
           0.828346780716011,
           0.8507921401076015,
           0.8561961987564516,
           0.9278648364951907,
           0.9195425361732378
          ],
          [
           0.8505850979183841,
           0.8973087330857182,
           0.7009202449305726,
           0.6768006889653844,
           0.6795286186681215,
           0.7031249008357392,
           0.7107204140093571,
           0.7107446711650313,
           0.8748186605235779,
           0.8939828619446405
          ],
          [
           0.9042719189365113,
           0.8951541305871866,
           0.7969888639674827,
           0.7700985521576424,
           0.805165369561661,
           0.8365546417601686,
           0.8430041380533914,
           0.8189502777069285,
           0.8975966098201327,
           0.9368472298931579
          ],
          [
           0.8798623737668467,
           0.8591508832777612,
           0.8359046678107771,
           0.8556305158161782,
           0.7802019447972963,
           0.8027156129241415,
           0.7698837169857389,
           0.795974868818033,
           0.8216634370294437,
           0.8258418758101865
          ],
          [
           0.7429100470351532,
           0.7538909640495124,
           0.6727609244095011,
           0.6787155504571495,
           0.6933633739431111,
           0.6584390738288043,
           0.7041544524130204,
           0.7567918677383932,
           0.865003282468536,
           0.8576116881273299
          ],
          [
           0.8265925829034498,
           0.8543699043371297,
           0.7505580329165106,
           0.7566727346447044,
           0.7961305900925956,
           0.816107124123199,
           0.8066643054793329,
           0.8177262312985296,
           0.8709313090894244,
           0.9176458585556362
          ],
          [
           0.8289966994873519,
           0.8121906670742898,
           0.7918427125970223,
           0.7935860818747177,
           0.7959340463576067,
           0.8468677214751182,
           0.8514102048554228,
           0.8405009745788469,
           0.8582976114221414,
           0.8557191235297829
          ]
         ],
         "zmax": 1.3,
         "zmin": 0.7
        },
        {
         "colorscale": [
          [
           0,
           "rgb(103,0,31)"
          ],
          [
           0.1,
           "rgb(178,24,43)"
          ],
          [
           0.2,
           "rgb(214,96,77)"
          ],
          [
           0.3,
           "rgb(244,165,130)"
          ],
          [
           0.4,
           "rgb(253,219,199)"
          ],
          [
           0.5,
           "rgb(247,247,247)"
          ],
          [
           0.6,
           "rgb(209,229,240)"
          ],
          [
           0.7,
           "rgb(146,197,222)"
          ],
          [
           0.8,
           "rgb(67,147,195)"
          ],
          [
           0.9,
           "rgb(33,102,172)"
          ],
          [
           1,
           "rgb(5,48,97)"
          ]
         ],
         "reversescale": true,
         "text": [
          [
           "•",
           " ",
           " ",
           " ",
           " ",
           " ",
           " ",
           " ",
           " ",
           " "
          ],
          [
           "•",
           " ",
           " ",
           " ",
           " ",
           " ",
           " ",
           " ",
           " ",
           " "
          ],
          [
           " ",
           " ",
           " ",
           " ",
           " ",
           " ",
           " ",
           " ",
           " ",
           " "
          ],
          [
           " ",
           " ",
           " ",
           "•",
           "•",
           "•",
           "•",
           "•",
           " ",
           " "
          ],
          [
           " ",
           " ",
           " ",
           " ",
           " ",
           " ",
           " ",
           " ",
           " ",
           " "
          ],
          [
           "•",
           "•",
           " ",
           " ",
           "•",
           "•",
           "•",
           "•",
           "•",
           "•"
          ],
          [
           " ",
           " ",
           "•",
           "•",
           "•",
           "•",
           "•",
           "•",
           " ",
           " "
          ],
          [
           " ",
           " ",
           " ",
           " ",
           " ",
           " ",
           " ",
           " ",
           " ",
           " "
          ],
          [
           " ",
           " ",
           " ",
           " ",
           "•",
           "•",
           "•",
           "•",
           " ",
           " "
          ],
          [
           "•",
           "•",
           " ",
           " ",
           " ",
           " ",
           " ",
           " ",
           " ",
           " "
          ],
          [
           " ",
           "•",
           " ",
           " ",
           " ",
           "•",
           "•",
           " ",
           " ",
           " "
          ],
          [
           "•",
           "•",
           "•",
           "•",
           " ",
           "•",
           "•",
           "•",
           " ",
           " "
          ]
         ],
         "textfont": {
          "color": "black",
          "size": 20
         },
         "texttemplate": "%{text}",
         "type": "heatmap",
         "x": [
          1,
          2,
          3,
          4,
          5,
          6,
          7,
          8,
          9,
          10
         ],
         "xaxis": "x6",
         "xgap": 2,
         "y": [
          "r_RAD-RPD",
          "r_RRF-RST",
          "r_RTA-RSO",
          "r_LAD-LPD",
          "r_LRF-LST",
          "r_LTA-LSO",
          "p_RAD-RPD",
          "p_RRF-RST",
          "p_RTA-RSO",
          "p_LAD-LPD",
          "p_LRF-LST",
          "p_LTA-LSO"
         ],
         "yaxis": "y6",
         "ygap": 2,
         "z": [
          [
           0.8237593448417533,
           0.8637447962502006,
           0.992110861922304,
           1.1037088131393271,
           1.093084552648842,
           1.085504273598622,
           1.0608226923663697,
           1.0382734763202648,
           1.0678798013059556,
           1.0511856693686732
          ],
          [
           0.8861188976905985,
           0.9077251025207335,
           0.9685665811545091,
           0.9136162484052381,
           0.9362118584433261,
           0.9723454012594477,
           0.9887033137819689,
           0.9967238569323963,
           0.9704660213859194,
           0.9903141562301689
          ],
          [
           0.9665803441286093,
           0.9723757601483142,
           0.9650035156676874,
           0.926382587784799,
           0.9177890508324611,
           0.9388216286356409,
           0.957385048549059,
           0.9694746842491814,
           0.9845381386802027,
           0.9808504363823265
          ],
          [
           0.9374047907989334,
           0.9272298350772814,
           0.8495771290791325,
           0.7795260695940849,
           0.8024641359327982,
           0.8358134779485122,
           0.8626920273912693,
           0.8562025433716747,
           0.8655460701230058,
           0.9452824814388238
          ],
          [
           0.9865709070500507,
           0.9814107381694052,
           0.9772836966010903,
           0.9351484469486735,
           0.9465727817394015,
           0.974872694433909,
           0.9550372150194997,
           0.9561360298745974,
           0.9737309339790717,
           0.9677236035886259
          ],
          [
           0.8873071851034472,
           0.8846977099509054,
           0.8537612363609844,
           0.8692736469553286,
           0.8465475200853928,
           0.8334305305515054,
           0.8275146875527082,
           0.8004197942355318,
           0.798277979736988,
           0.8171148951802141
          ],
          [
           0.9722759426325821,
           0.9766475821366664,
           0.6840553563526169,
           0.6008442769479534,
           0.5972808166078258,
           0.6414468172140382,
           0.7076343726736739,
           0.724345828527449,
           0.9677715883974838,
           1.0307421062243545
          ],
          [
           1.0625257951891536,
           1.025550046862275,
           0.9348507806115287,
           0.9280501597708972,
           0.9058172416923649,
           0.9130313031585766,
           0.9170172630065239,
           0.9425950829474481,
           0.9781306931195299,
           0.9887173124514813
          ],
          [
           0.8897470093347475,
           0.8812325521192911,
           0.836261093254324,
           0.8380207272532234,
           0.8084786167711813,
           0.8061687019997106,
           0.773445181656421,
           0.7964138839537582,
           0.8196089949142947,
           0.833569139036214
          ],
          [
           0.7044664162950369,
           0.7907511251481999,
           0.7958621579829307,
           0.9300867552992352,
           0.9113326280230681,
           0.8936504315364723,
           0.866011302453718,
           0.8618542938077398,
           0.9157499116804483,
           0.9553845415070265
          ],
          [
           0.8883220864439129,
           0.8570572892987612,
           0.8792345732621901,
           0.8933647501241186,
           0.8797681405382833,
           0.8669131930426787,
           0.8989076498047965,
           0.9208361991436159,
           0.9154615104666355,
           0.9257639249231752
          ],
          [
           0.73742858028947,
           0.7549930552069859,
           0.713220876916412,
           0.8015915894738597,
           0.8828161310272298,
           0.8660287557728265,
           0.8586144056889369,
           0.868606644831083,
           0.9303502257911812,
           0.8942937714292458
          ]
         ],
         "zmax": 1.3,
         "zmin": 0.7
        },
        {
         "colorscale": [
          [
           0,
           "rgb(103,0,31)"
          ],
          [
           0.1,
           "rgb(178,24,43)"
          ],
          [
           0.2,
           "rgb(214,96,77)"
          ],
          [
           0.3,
           "rgb(244,165,130)"
          ],
          [
           0.4,
           "rgb(253,219,199)"
          ],
          [
           0.5,
           "rgb(247,247,247)"
          ],
          [
           0.6,
           "rgb(209,229,240)"
          ],
          [
           0.7,
           "rgb(146,197,222)"
          ],
          [
           0.8,
           "rgb(67,147,195)"
          ],
          [
           0.9,
           "rgb(33,102,172)"
          ],
          [
           1,
           "rgb(5,48,97)"
          ]
         ],
         "reversescale": true,
         "text": [
          [
           "•",
           "•",
           "•",
           "•",
           "•",
           "•",
           "•",
           "•",
           "•",
           "•"
          ],
          [
           "•",
           "•",
           "•",
           "•",
           "•",
           "•",
           "•",
           "•",
           "•",
           "•"
          ],
          [
           "•",
           "•",
           "•",
           "•",
           "•",
           "•",
           "•",
           "•",
           "•",
           "•"
          ],
          [
           "•",
           "•",
           " ",
           "•",
           "•",
           "•",
           "•",
           "•",
           "•",
           "•"
          ],
          [
           "•",
           "•",
           "•",
           "•",
           " ",
           " ",
           " ",
           " ",
           " ",
           " "
          ],
          [
           "•",
           "•",
           "•",
           "•",
           "•",
           "•",
           "•",
           "•",
           "•",
           "•"
          ],
          [
           " ",
           " ",
           " ",
           " ",
           " ",
           " ",
           " ",
           " ",
           " ",
           " "
          ],
          [
           "•",
           "•",
           "•",
           "•",
           "•",
           "•",
           "•",
           "•",
           " ",
           " "
          ],
          [
           " ",
           "•",
           "•",
           "•",
           "•",
           "•",
           "•",
           "•",
           "•",
           "•"
          ],
          [
           "•",
           "•",
           "•",
           "•",
           "•",
           "•",
           "•",
           "•",
           "•",
           "•"
          ],
          [
           " ",
           " ",
           "•",
           "•",
           "•",
           "•",
           "•",
           "•",
           "•",
           "•"
          ],
          [
           "•",
           "•",
           "•",
           "•",
           "•",
           "•",
           "•",
           "•",
           " ",
           " "
          ]
         ],
         "textfont": {
          "color": "black",
          "size": 20
         },
         "texttemplate": "%{text}",
         "type": "heatmap",
         "x": [
          1,
          2,
          3,
          4,
          5,
          6,
          7,
          8,
          9,
          10
         ],
         "xaxis": "x7",
         "xgap": 2,
         "y": [
          "r_RAD-RPD",
          "r_RRF-RST",
          "r_RTA-RSO",
          "r_LAD-LPD",
          "r_LRF-LST",
          "r_LTA-LSO",
          "p_RAD-RPD",
          "p_RRF-RST",
          "p_RTA-RSO",
          "p_LAD-LPD",
          "p_LRF-LST",
          "p_LTA-LSO"
         ],
         "yaxis": "y7",
         "ygap": 2,
         "z": [
          [
           0.7824186859979899,
           0.8062639253468816,
           0.7509791852953029,
           0.8146969900675116,
           0.8581191708090415,
           0.8706857055429891,
           0.8840998710111747,
           0.8670321279145009,
           0.8886400174315044,
           0.913675731688983
          ],
          [
           0.8264886267180586,
           0.8271549770044541,
           0.7863901089769932,
           0.8133813788360745,
           0.785235631947743,
           0.816652771497339,
           0.8239221143857998,
           0.8142200966813239,
           0.8336830706313992,
           0.817567677728955
          ],
          [
           0.8688860764864489,
           0.8155175558847965,
           0.8705104513697406,
           0.8630130173303654,
           0.8337019014216827,
           0.846611672082417,
           0.8216775524775737,
           0.8374354026831069,
           0.8522539752175234,
           0.8811872001477801
          ],
          [
           0.8759720683667845,
           0.850987320887258,
           0.88500914373475,
           0.8813683858927721,
           0.8744875786724191,
           0.8719989493900797,
           0.8176944584960599,
           0.789841481103039,
           0.8209362169336937,
           0.794210556912426
          ],
          [
           0.9454528234747519,
           0.9258499800563748,
           0.9231168611045715,
           0.9180113776824296,
           0.9304949426744316,
           0.9166116351415692,
           0.9522165658146022,
           0.9333967963692866,
           0.9330883795747774,
           0.9755933974165842
          ],
          [
           0.8898933420323668,
           0.9065951842972606,
           0.8761545083289263,
           0.8648773507233715,
           0.8577537895735772,
           0.83910594817009,
           0.8717701092822374,
           0.8734003265359125,
           0.8892436972125368,
           0.8911945223564183
          ],
          [
           0.9127255069408334,
           0.9250294335113542,
           1.0238749057842582,
           1.0216383255394708,
           0.9914672046814035,
           0.9663123215574515,
           0.931461424966032,
           0.9398480714491663,
           0.8433761723488404,
           0.8286693794580856
          ],
          [
           0.9143230790715821,
           0.8822644253515665,
           0.827983138621582,
           0.8297702332804151,
           0.8097176098560603,
           0.7957593881048167,
           0.817687551672987,
           0.8317679363368848,
           0.9684378290328387,
           0.9894649160931092
          ],
          [
           0.8872717776802107,
           0.8699419970717929,
           0.8486877964783497,
           0.8301948199457609,
           0.8302461924278,
           0.8202379523138532,
           0.8601327107416512,
           0.8424709588720574,
           0.8542702761195136,
           0.8736625678604637
          ],
          [
           0.7311694240294289,
           0.7702113901752097,
           0.7573188736780238,
           0.7427385801012103,
           0.7652169163842013,
           0.7832668218062863,
           0.7525707585256243,
           0.802698429026861,
           0.8206809779613116,
           0.8492627766679363
          ],
          [
           0.8797766583421506,
           0.8828140130724756,
           0.8185536770486661,
           0.818508083348907,
           0.7889848210065249,
           0.7984973311046478,
           0.795182160874154,
           0.8112450071656642,
           0.8973712046909514,
           0.8939455192579427
          ],
          [
           0.862928221157513,
           0.821655735197864,
           0.8525374996630051,
           0.8833993828453767,
           0.8772991219898284,
           0.9020029453374467,
           0.8597052647361658,
           0.8977212846979762,
           0.9490942706364918,
           0.9252396000930083
          ]
         ],
         "zmax": 1.3,
         "zmin": 0.7
        },
        {
         "colorscale": [
          [
           0,
           "rgb(103,0,31)"
          ],
          [
           0.1,
           "rgb(178,24,43)"
          ],
          [
           0.2,
           "rgb(214,96,77)"
          ],
          [
           0.3,
           "rgb(244,165,130)"
          ],
          [
           0.4,
           "rgb(253,219,199)"
          ],
          [
           0.5,
           "rgb(247,247,247)"
          ],
          [
           0.6,
           "rgb(209,229,240)"
          ],
          [
           0.7,
           "rgb(146,197,222)"
          ],
          [
           0.8,
           "rgb(67,147,195)"
          ],
          [
           0.9,
           "rgb(33,102,172)"
          ],
          [
           1,
           "rgb(5,48,97)"
          ]
         ],
         "reversescale": true,
         "text": [
          [
           "•",
           "•",
           " ",
           " ",
           " ",
           " ",
           " ",
           " ",
           " ",
           " "
          ],
          [
           "•",
           "•",
           " ",
           " ",
           " ",
           " ",
           " ",
           " ",
           " ",
           " "
          ],
          [
           " ",
           " ",
           "•",
           "•",
           "•",
           "•",
           "•",
           "•",
           " ",
           " "
          ],
          [
           " ",
           " ",
           " ",
           " ",
           " ",
           " ",
           " ",
           " ",
           " ",
           " "
          ],
          [
           " ",
           " ",
           " ",
           " ",
           " ",
           " ",
           " ",
           " ",
           " ",
           " "
          ],
          [
           " ",
           " ",
           "•",
           "•",
           "•",
           "•",
           "•",
           "•",
           "•",
           "•"
          ],
          [
           " ",
           " ",
           " ",
           " ",
           " ",
           " ",
           " ",
           " ",
           " ",
           " "
          ],
          [
           " ",
           " ",
           " ",
           " ",
           " ",
           " ",
           " ",
           " ",
           " ",
           " "
          ],
          [
           " ",
           " ",
           " ",
           " ",
           " ",
           " ",
           " ",
           " ",
           " ",
           " "
          ],
          [
           "•",
           "•",
           " ",
           " ",
           " ",
           "•",
           "•",
           " ",
           " ",
           " "
          ],
          [
           " ",
           " ",
           "•",
           "•",
           " ",
           " ",
           "•",
           "•",
           " ",
           " "
          ],
          [
           "•",
           "•",
           "•",
           "•",
           " ",
           "•",
           "•",
           "•",
           " ",
           " "
          ]
         ],
         "textfont": {
          "color": "black",
          "size": 20
         },
         "texttemplate": "%{text}",
         "type": "heatmap",
         "x": [
          1,
          2,
          3,
          4,
          5,
          6,
          7,
          8,
          9,
          10
         ],
         "xaxis": "x8",
         "xgap": 2,
         "y": [
          "r_RAD-RPD",
          "r_RRF-RST",
          "r_RTA-RSO",
          "r_LAD-LPD",
          "r_LRF-LST",
          "r_LTA-LSO",
          "p_RAD-RPD",
          "p_RRF-RST",
          "p_RTA-RSO",
          "p_LAD-LPD",
          "p_LRF-LST",
          "p_LTA-LSO"
         ],
         "yaxis": "y8",
         "ygap": 2,
         "z": [
          [
           0.7061430898712542,
           0.7518477475014086,
           0.7672702382908546,
           0.7745120804874596,
           0.8105232228897427,
           0.8511052433361846,
           0.8936340031305551,
           0.9065169720717239,
           0.9429276942239955,
           1.0347854339827711
          ],
          [
           0.8928735954001386,
           0.9053023051001453,
           0.9026435305152343,
           0.9792695484588662,
           1.0089593660861733,
           1.0303497168450033,
           1.04157462484884,
           1.0504887926091961,
           0.97282614083224,
           1.0003580246366648
          ],
          [
           0.8589183077359455,
           0.806741319040222,
           0.778601348428641,
           0.8187320946625306,
           0.8042358112672805,
           0.7943062562733411,
           0.7641045018008294,
           0.7922340067334,
           0.8551374651746224,
           0.8484942720200291
          ],
          [
           0.9629442246499539,
           0.954331846896967,
           0.9307064883751809,
           0.9680315952398629,
           0.9937288313190865,
           1.035056436427083,
           1.0790823708352701,
           1.1147402130171669,
           1.1019030804240817,
           1.0511364819531444
          ],
          [
           0.9672271069560077,
           0.9541138967225855,
           0.9407212770964123,
           0.9681800104796967,
           0.9302631468892795,
           0.9146906112026908,
           0.9436010398244042,
           0.9445981428403616,
           0.9515183525872669,
           0.9689741936633753
          ],
          [
           0.8801447007144664,
           0.8976709798224171,
           0.855956719781992,
           0.8167428482004369,
           0.7413072395331705,
           0.7509442152140294,
           0.7682748263580591,
           0.773455547738646,
           0.7613584007202129,
           0.7884995574072498
          ],
          [
           1.0094227617647822,
           1.03603110130003,
           1.0135177918648557,
           1.0229020859449978,
           1.0165564488937802,
           1.0415239195899748,
           1.0814742668947168,
           1.0777238551056043,
           1.041435413250723,
           0.975602554114319
          ],
          [
           1.0801388663655913,
           1.0339649004927964,
           0.9272911158373731,
           0.899686661055207,
           0.8938041546113445,
           0.8714362874480809,
           0.871730173767712,
           0.9013822017373613,
           1.040975380741304,
           1.0160341383191116
          ],
          [
           0.9750981795831838,
           0.9941303270445401,
           1.0043896392205225,
           0.9564058080856042,
           0.9418697200007893,
           0.939906743997492,
           1.0101465793767572,
           1.0148887704205574,
           0.9702754493839667,
           0.9578203777579277
          ],
          [
           0.6792090625992181,
           0.76076393259134,
           0.7692353373180429,
           0.8101179031386803,
           0.7936262125995146,
           0.7864819306860622,
           0.7990488424007494,
           0.8262331858867846,
           0.8648032613674992,
           0.9621697757836845
          ],
          [
           0.9171849286083125,
           0.9109212272349941,
           0.8562296759413928,
           0.8752577092224539,
           0.9109499644722883,
           0.8937804863373688,
           0.8964755265154273,
           0.9145245502587228,
           1.0156005991617643,
           1.0113023773697225
          ],
          [
           0.7480443400831572,
           0.7153917412728841,
           0.7320730393827948,
           0.7819434767251567,
           0.8614880967230653,
           0.8265666487019875,
           0.8103913870174339,
           0.864538634176276,
           0.9472360337270347,
           0.9394295562785199
          ]
         ],
         "zmax": 1.3,
         "zmin": 0.7
        }
       ],
       "layout": {
        "annotations": [
         {
          "font": {
           "size": 16
          },
          "showarrow": false,
          "text": "LME_young",
          "x": 0.225,
          "xanchor": "center",
          "xref": "paper",
          "y": 1,
          "yanchor": "bottom",
          "yref": "paper"
         },
         {
          "font": {
           "size": 16
          },
          "showarrow": false,
          "text": "LME_old",
          "x": 0.775,
          "xanchor": "center",
          "xref": "paper",
          "y": 1,
          "yanchor": "bottom",
          "yref": "paper"
         },
         {
          "font": {
           "size": 16
          },
          "showarrow": false,
          "text": "LEI_young",
          "x": 0.225,
          "xanchor": "center",
          "xref": "paper",
          "y": 0.71875,
          "yanchor": "bottom",
          "yref": "paper"
         },
         {
          "font": {
           "size": 16
          },
          "showarrow": false,
          "text": "LEI_old",
          "x": 0.775,
          "xanchor": "center",
          "xref": "paper",
          "y": 0.71875,
          "yanchor": "bottom",
          "yref": "paper"
         },
         {
          "font": {
           "size": 16
          },
          "showarrow": false,
          "text": "RME_young",
          "x": 0.225,
          "xanchor": "center",
          "xref": "paper",
          "y": 0.4375,
          "yanchor": "bottom",
          "yref": "paper"
         },
         {
          "font": {
           "size": 16
          },
          "showarrow": false,
          "text": "RME_old",
          "x": 0.775,
          "xanchor": "center",
          "xref": "paper",
          "y": 0.4375,
          "yanchor": "bottom",
          "yref": "paper"
         },
         {
          "font": {
           "size": 16
          },
          "showarrow": false,
          "text": "REI_young",
          "x": 0.225,
          "xanchor": "center",
          "xref": "paper",
          "y": 0.15625,
          "yanchor": "bottom",
          "yref": "paper"
         },
         {
          "font": {
           "size": 16
          },
          "showarrow": false,
          "text": "REI_old",
          "x": 0.775,
          "xanchor": "center",
          "xref": "paper",
          "y": 0.15625,
          "yanchor": "bottom",
          "yref": "paper"
         }
        ],
        "font": {
         "family": "Open Sans"
        },
        "height": 1600,
        "template": {
         "data": {
          "bar": [
           {
            "error_x": {
             "color": "#2a3f5f"
            },
            "error_y": {
             "color": "#2a3f5f"
            },
            "marker": {
             "line": {
              "color": "#E5ECF6",
              "width": 0.5
             },
             "pattern": {
              "fillmode": "overlay",
              "size": 10,
              "solidity": 0.2
             }
            },
            "type": "bar"
           }
          ],
          "barpolar": [
           {
            "marker": {
             "line": {
              "color": "#E5ECF6",
              "width": 0.5
             },
             "pattern": {
              "fillmode": "overlay",
              "size": 10,
              "solidity": 0.2
             }
            },
            "type": "barpolar"
           }
          ],
          "carpet": [
           {
            "aaxis": {
             "endlinecolor": "#2a3f5f",
             "gridcolor": "white",
             "linecolor": "white",
             "minorgridcolor": "white",
             "startlinecolor": "#2a3f5f"
            },
            "baxis": {
             "endlinecolor": "#2a3f5f",
             "gridcolor": "white",
             "linecolor": "white",
             "minorgridcolor": "white",
             "startlinecolor": "#2a3f5f"
            },
            "type": "carpet"
           }
          ],
          "choropleth": [
           {
            "colorbar": {
             "outlinewidth": 0,
             "ticks": ""
            },
            "type": "choropleth"
           }
          ],
          "contour": [
           {
            "colorbar": {
             "outlinewidth": 0,
             "ticks": ""
            },
            "colorscale": [
             [
              0,
              "#0d0887"
             ],
             [
              0.1111111111111111,
              "#46039f"
             ],
             [
              0.2222222222222222,
              "#7201a8"
             ],
             [
              0.3333333333333333,
              "#9c179e"
             ],
             [
              0.4444444444444444,
              "#bd3786"
             ],
             [
              0.5555555555555556,
              "#d8576b"
             ],
             [
              0.6666666666666666,
              "#ed7953"
             ],
             [
              0.7777777777777778,
              "#fb9f3a"
             ],
             [
              0.8888888888888888,
              "#fdca26"
             ],
             [
              1,
              "#f0f921"
             ]
            ],
            "type": "contour"
           }
          ],
          "contourcarpet": [
           {
            "colorbar": {
             "outlinewidth": 0,
             "ticks": ""
            },
            "type": "contourcarpet"
           }
          ],
          "heatmap": [
           {
            "colorbar": {
             "outlinewidth": 0,
             "ticks": ""
            },
            "colorscale": [
             [
              0,
              "#0d0887"
             ],
             [
              0.1111111111111111,
              "#46039f"
             ],
             [
              0.2222222222222222,
              "#7201a8"
             ],
             [
              0.3333333333333333,
              "#9c179e"
             ],
             [
              0.4444444444444444,
              "#bd3786"
             ],
             [
              0.5555555555555556,
              "#d8576b"
             ],
             [
              0.6666666666666666,
              "#ed7953"
             ],
             [
              0.7777777777777778,
              "#fb9f3a"
             ],
             [
              0.8888888888888888,
              "#fdca26"
             ],
             [
              1,
              "#f0f921"
             ]
            ],
            "type": "heatmap"
           }
          ],
          "heatmapgl": [
           {
            "colorbar": {
             "outlinewidth": 0,
             "ticks": ""
            },
            "colorscale": [
             [
              0,
              "#0d0887"
             ],
             [
              0.1111111111111111,
              "#46039f"
             ],
             [
              0.2222222222222222,
              "#7201a8"
             ],
             [
              0.3333333333333333,
              "#9c179e"
             ],
             [
              0.4444444444444444,
              "#bd3786"
             ],
             [
              0.5555555555555556,
              "#d8576b"
             ],
             [
              0.6666666666666666,
              "#ed7953"
             ],
             [
              0.7777777777777778,
              "#fb9f3a"
             ],
             [
              0.8888888888888888,
              "#fdca26"
             ],
             [
              1,
              "#f0f921"
             ]
            ],
            "type": "heatmapgl"
           }
          ],
          "histogram": [
           {
            "marker": {
             "pattern": {
              "fillmode": "overlay",
              "size": 10,
              "solidity": 0.2
             }
            },
            "type": "histogram"
           }
          ],
          "histogram2d": [
           {
            "colorbar": {
             "outlinewidth": 0,
             "ticks": ""
            },
            "colorscale": [
             [
              0,
              "#0d0887"
             ],
             [
              0.1111111111111111,
              "#46039f"
             ],
             [
              0.2222222222222222,
              "#7201a8"
             ],
             [
              0.3333333333333333,
              "#9c179e"
             ],
             [
              0.4444444444444444,
              "#bd3786"
             ],
             [
              0.5555555555555556,
              "#d8576b"
             ],
             [
              0.6666666666666666,
              "#ed7953"
             ],
             [
              0.7777777777777778,
              "#fb9f3a"
             ],
             [
              0.8888888888888888,
              "#fdca26"
             ],
             [
              1,
              "#f0f921"
             ]
            ],
            "type": "histogram2d"
           }
          ],
          "histogram2dcontour": [
           {
            "colorbar": {
             "outlinewidth": 0,
             "ticks": ""
            },
            "colorscale": [
             [
              0,
              "#0d0887"
             ],
             [
              0.1111111111111111,
              "#46039f"
             ],
             [
              0.2222222222222222,
              "#7201a8"
             ],
             [
              0.3333333333333333,
              "#9c179e"
             ],
             [
              0.4444444444444444,
              "#bd3786"
             ],
             [
              0.5555555555555556,
              "#d8576b"
             ],
             [
              0.6666666666666666,
              "#ed7953"
             ],
             [
              0.7777777777777778,
              "#fb9f3a"
             ],
             [
              0.8888888888888888,
              "#fdca26"
             ],
             [
              1,
              "#f0f921"
             ]
            ],
            "type": "histogram2dcontour"
           }
          ],
          "mesh3d": [
           {
            "colorbar": {
             "outlinewidth": 0,
             "ticks": ""
            },
            "type": "mesh3d"
           }
          ],
          "parcoords": [
           {
            "line": {
             "colorbar": {
              "outlinewidth": 0,
              "ticks": ""
             }
            },
            "type": "parcoords"
           }
          ],
          "pie": [
           {
            "automargin": true,
            "type": "pie"
           }
          ],
          "scatter": [
           {
            "fillpattern": {
             "fillmode": "overlay",
             "size": 10,
             "solidity": 0.2
            },
            "type": "scatter"
           }
          ],
          "scatter3d": [
           {
            "line": {
             "colorbar": {
              "outlinewidth": 0,
              "ticks": ""
             }
            },
            "marker": {
             "colorbar": {
              "outlinewidth": 0,
              "ticks": ""
             }
            },
            "type": "scatter3d"
           }
          ],
          "scattercarpet": [
           {
            "marker": {
             "colorbar": {
              "outlinewidth": 0,
              "ticks": ""
             }
            },
            "type": "scattercarpet"
           }
          ],
          "scattergeo": [
           {
            "marker": {
             "colorbar": {
              "outlinewidth": 0,
              "ticks": ""
             }
            },
            "type": "scattergeo"
           }
          ],
          "scattergl": [
           {
            "marker": {
             "colorbar": {
              "outlinewidth": 0,
              "ticks": ""
             }
            },
            "type": "scattergl"
           }
          ],
          "scattermapbox": [
           {
            "marker": {
             "colorbar": {
              "outlinewidth": 0,
              "ticks": ""
             }
            },
            "type": "scattermapbox"
           }
          ],
          "scatterpolar": [
           {
            "marker": {
             "colorbar": {
              "outlinewidth": 0,
              "ticks": ""
             }
            },
            "type": "scatterpolar"
           }
          ],
          "scatterpolargl": [
           {
            "marker": {
             "colorbar": {
              "outlinewidth": 0,
              "ticks": ""
             }
            },
            "type": "scatterpolargl"
           }
          ],
          "scatterternary": [
           {
            "marker": {
             "colorbar": {
              "outlinewidth": 0,
              "ticks": ""
             }
            },
            "type": "scatterternary"
           }
          ],
          "surface": [
           {
            "colorbar": {
             "outlinewidth": 0,
             "ticks": ""
            },
            "colorscale": [
             [
              0,
              "#0d0887"
             ],
             [
              0.1111111111111111,
              "#46039f"
             ],
             [
              0.2222222222222222,
              "#7201a8"
             ],
             [
              0.3333333333333333,
              "#9c179e"
             ],
             [
              0.4444444444444444,
              "#bd3786"
             ],
             [
              0.5555555555555556,
              "#d8576b"
             ],
             [
              0.6666666666666666,
              "#ed7953"
             ],
             [
              0.7777777777777778,
              "#fb9f3a"
             ],
             [
              0.8888888888888888,
              "#fdca26"
             ],
             [
              1,
              "#f0f921"
             ]
            ],
            "type": "surface"
           }
          ],
          "table": [
           {
            "cells": {
             "fill": {
              "color": "#EBF0F8"
             },
             "line": {
              "color": "white"
             }
            },
            "header": {
             "fill": {
              "color": "#C8D4E3"
             },
             "line": {
              "color": "white"
             }
            },
            "type": "table"
           }
          ]
         },
         "layout": {
          "annotationdefaults": {
           "arrowcolor": "#2a3f5f",
           "arrowhead": 0,
           "arrowwidth": 1
          },
          "autotypenumbers": "strict",
          "coloraxis": {
           "colorbar": {
            "outlinewidth": 0,
            "ticks": ""
           }
          },
          "colorscale": {
           "diverging": [
            [
             0,
             "#8e0152"
            ],
            [
             0.1,
             "#c51b7d"
            ],
            [
             0.2,
             "#de77ae"
            ],
            [
             0.3,
             "#f1b6da"
            ],
            [
             0.4,
             "#fde0ef"
            ],
            [
             0.5,
             "#f7f7f7"
            ],
            [
             0.6,
             "#e6f5d0"
            ],
            [
             0.7,
             "#b8e186"
            ],
            [
             0.8,
             "#7fbc41"
            ],
            [
             0.9,
             "#4d9221"
            ],
            [
             1,
             "#276419"
            ]
           ],
           "sequential": [
            [
             0,
             "#0d0887"
            ],
            [
             0.1111111111111111,
             "#46039f"
            ],
            [
             0.2222222222222222,
             "#7201a8"
            ],
            [
             0.3333333333333333,
             "#9c179e"
            ],
            [
             0.4444444444444444,
             "#bd3786"
            ],
            [
             0.5555555555555556,
             "#d8576b"
            ],
            [
             0.6666666666666666,
             "#ed7953"
            ],
            [
             0.7777777777777778,
             "#fb9f3a"
            ],
            [
             0.8888888888888888,
             "#fdca26"
            ],
            [
             1,
             "#f0f921"
            ]
           ],
           "sequentialminus": [
            [
             0,
             "#0d0887"
            ],
            [
             0.1111111111111111,
             "#46039f"
            ],
            [
             0.2222222222222222,
             "#7201a8"
            ],
            [
             0.3333333333333333,
             "#9c179e"
            ],
            [
             0.4444444444444444,
             "#bd3786"
            ],
            [
             0.5555555555555556,
             "#d8576b"
            ],
            [
             0.6666666666666666,
             "#ed7953"
            ],
            [
             0.7777777777777778,
             "#fb9f3a"
            ],
            [
             0.8888888888888888,
             "#fdca26"
            ],
            [
             1,
             "#f0f921"
            ]
           ]
          },
          "colorway": [
           "#636efa",
           "#EF553B",
           "#00cc96",
           "#ab63fa",
           "#FFA15A",
           "#19d3f3",
           "#FF6692",
           "#B6E880",
           "#FF97FF",
           "#FECB52"
          ],
          "font": {
           "color": "#2a3f5f"
          },
          "geo": {
           "bgcolor": "white",
           "lakecolor": "white",
           "landcolor": "#E5ECF6",
           "showlakes": true,
           "showland": true,
           "subunitcolor": "white"
          },
          "hoverlabel": {
           "align": "left"
          },
          "hovermode": "closest",
          "mapbox": {
           "style": "light"
          },
          "paper_bgcolor": "white",
          "plot_bgcolor": "#E5ECF6",
          "polar": {
           "angularaxis": {
            "gridcolor": "white",
            "linecolor": "white",
            "ticks": ""
           },
           "bgcolor": "#E5ECF6",
           "radialaxis": {
            "gridcolor": "white",
            "linecolor": "white",
            "ticks": ""
           }
          },
          "scene": {
           "xaxis": {
            "backgroundcolor": "#E5ECF6",
            "gridcolor": "white",
            "gridwidth": 2,
            "linecolor": "white",
            "showbackground": true,
            "ticks": "",
            "zerolinecolor": "white"
           },
           "yaxis": {
            "backgroundcolor": "#E5ECF6",
            "gridcolor": "white",
            "gridwidth": 2,
            "linecolor": "white",
            "showbackground": true,
            "ticks": "",
            "zerolinecolor": "white"
           },
           "zaxis": {
            "backgroundcolor": "#E5ECF6",
            "gridcolor": "white",
            "gridwidth": 2,
            "linecolor": "white",
            "showbackground": true,
            "ticks": "",
            "zerolinecolor": "white"
           }
          },
          "shapedefaults": {
           "line": {
            "color": "#2a3f5f"
           }
          },
          "ternary": {
           "aaxis": {
            "gridcolor": "white",
            "linecolor": "white",
            "ticks": ""
           },
           "baxis": {
            "gridcolor": "white",
            "linecolor": "white",
            "ticks": ""
           },
           "bgcolor": "#E5ECF6",
           "caxis": {
            "gridcolor": "white",
            "linecolor": "white",
            "ticks": ""
           }
          },
          "title": {
           "x": 0.05
          },
          "xaxis": {
           "automargin": true,
           "gridcolor": "white",
           "linecolor": "white",
           "ticks": "",
           "title": {
            "standoff": 15
           },
           "zerolinecolor": "white",
           "zerolinewidth": 2
          },
          "yaxis": {
           "automargin": true,
           "gridcolor": "white",
           "linecolor": "white",
           "ticks": "",
           "title": {
            "standoff": 15
           },
           "zerolinecolor": "white",
           "zerolinewidth": 2
          }
         }
        },
        "title": {
         "text": "co-contraction index"
        },
        "width": 1000,
        "xaxis": {
         "anchor": "y",
         "domain": [
          0,
          0.45
         ]
        },
        "xaxis2": {
         "anchor": "y2",
         "domain": [
          0.55,
          1
         ]
        },
        "xaxis3": {
         "anchor": "y3",
         "domain": [
          0,
          0.45
         ]
        },
        "xaxis4": {
         "anchor": "y4",
         "domain": [
          0.55,
          1
         ]
        },
        "xaxis5": {
         "anchor": "y5",
         "domain": [
          0,
          0.45
         ]
        },
        "xaxis6": {
         "anchor": "y6",
         "domain": [
          0.55,
          1
         ]
        },
        "xaxis7": {
         "anchor": "y7",
         "domain": [
          0,
          0.45
         ]
        },
        "xaxis8": {
         "anchor": "y8",
         "domain": [
          0.55,
          1
         ]
        },
        "yaxis": {
         "anchor": "x",
         "domain": [
          0.84375,
          1
         ]
        },
        "yaxis2": {
         "anchor": "x2",
         "domain": [
          0.84375,
          1
         ]
        },
        "yaxis3": {
         "anchor": "x3",
         "domain": [
          0.5625,
          0.71875
         ]
        },
        "yaxis4": {
         "anchor": "x4",
         "domain": [
          0.5625,
          0.71875
         ]
        },
        "yaxis5": {
         "anchor": "x5",
         "domain": [
          0.28125,
          0.4375
         ]
        },
        "yaxis6": {
         "anchor": "x6",
         "domain": [
          0.28125,
          0.4375
         ]
        },
        "yaxis7": {
         "anchor": "x7",
         "domain": [
          0,
          0.15625
         ]
        },
        "yaxis8": {
         "anchor": "x8",
         "domain": [
          0,
          0.15625
         ]
        }
       }
      }
     },
     "metadata": {},
     "output_type": "display_data"
    }
   ],
   "source": [
    "NUM_COL = 10  # one column per minute\n",
    "ci_maps = {a: {c: np.zeros([len(TP_NAMES) * len(TESTS), NUM_COL]) for c in CONDS} for a in SUBJS}\n",
    "DES_POINTS = {'pre': 2, 'pert': 6, 'catch': 6, 'post': 2}\n",
    "\n",
    "for a in SUBJS:\n",
    "    for c in CONDS:\n",
    "        for i, p in enumerate([(x, y) for x in TESTS for y in TP_NAMES]):\n",
    "            count = 0\n",
    "            for b in BLOCKS:\n",
    "                if b != 'catch':\n",
    "                    ci_maps[a][c][i, count: count + DES_POINTS[b]] = weighted_average[p[0]][a][c][b][p[1]]\n",
    "                    count += DES_POINTS[b]\n",
    "\n",
    "# A similar approach is needed for the significance.\n",
    "# The difference is that the significance does not have the raw array. So we need to first make it.\n",
    "significance = {t: {a: {c: {b: {p: np.zeros_like(weighted_average[t][a][c][b][p]) for p in TP_NAMES} for b in BLOCKS}\n",
    "                        for c in CONDS} for a in SUBJS} for t in TESTS}\n",
    "\n",
    "for t in TESTS:\n",
    "    for a in SUBJS:\n",
    "        for c in CONDS:\n",
    "            for b in BLOCKS:\n",
    "                for p in TP_NAMES:\n",
    "                    for sdx, s in enumerate(\n",
    "                            sigInd_inClust[t][a][c][b][p]):  # type: ignore\n",
    "                        if ensemTval_inClust[t][a][c][b][p][sdx] > sig_ther[t][a][c][b][p]:  # type: ignore\n",
    "                            significance[t][a][c][b][p][s] = 1\n",
    "\n",
    "sig_maps, sigmaps_num = [{a: {c: np.zeros([len(TP_NAMES) * len(TESTS), NUM_COL]) for c in CONDS} for a in SUBJS}\n",
    "                         for _ in range(2)]\n",
    "\n",
    "for a in SUBJS:\n",
    "    for c in CONDS:\n",
    "        for i, p in enumerate([(x, y) for x in TESTS for y in TP_NAMES]):\n",
    "            count = 0\n",
    "            for b in BLOCKS:\n",
    "                if b != 'catch':\n",
    "                    sig_maps[a][c][i, count: count + DES_POINTS[b]] = significance[p[0]][a][c][b][p[1]]\n",
    "                    count += DES_POINTS[b]\n",
    "        sigmaps_num[a][c] = sig_maps[a][c].copy()\n",
    "        sig_maps[a][c] = np.char.array(np.uint(sig_maps[a][c]), unicode=True, copy=True)\n",
    "        sig_maps[a][c][sig_maps[a][c] == '1'] = '•'\n",
    "        sig_maps[a][c][sig_maps[a][c] == '0'] = ' '\n",
    "\n",
    "# it is easier to plot the dots w/ plotly\n",
    "fig = make_subplots(len(CONDS), len(SUBJS), subplot_titles=[f'{x}_{y}' for x in CONDS for y in SUBJS])\n",
    "y = [f'{r}_{t}' for r in ['p', 'r'] for t in TP_NAMES]\n",
    "y.reverse()\n",
    "for i, c in enumerate(CONDS):\n",
    "    for j, a in enumerate(SUBJS):\n",
    "        trace = go.Heatmap(\n",
    "            z=np.flipud(ci_maps[a][c]),\n",
    "            y=y, x=list(range(1, 11)),\n",
    "            colorscale='rdbu', reversescale=True, zmin=.7, zmax=1.3, xgap=2, ygap=2,\n",
    "            text=np.flipud(sig_maps[a][c]), texttemplate=\"%{text}\",\n",
    "            textfont={\"size\": 20, \"color\": \"black\"}\n",
    "        )\n",
    "        fig.add_trace(trace, row=i + 1, col=j + 1)\n",
    "fig.update_layout(height=1600, width=1000, title_text='co-contraction index', font_family=\"Open Sans\")\n",
    "if plot_fig:\n",
    "    fig.show()\n",
    "if save_fig:\n",
    "    fig.write_image(DATA_PATH + 'group_response/coContraction_index_heatmap.pdf')\n",
    "\n",
    "# Seaborn plotting, not the easiest to put the dots on heatmap though.\n",
    "# fig, ax = plt.subplots(len(CONDS), len(SUBJS), figsize=(9, 15), dpi=400, facecolor=None, )\n",
    "# for i, c in enumerate(CONDS):\n",
    "#     for j, a in enumerate(SUBJS):\n",
    "#         temp_df = pd.DataFrame(ci_maps[a][c], index=tp_names+tp_names, columns=range(1,11))\n",
    "#         sns.heatmap(temp_df,vmin=0.8, vmax=1.2, cmap='vlag', linewidths=0.5, ax= ax[i,j],\n",
    "#                    cbar_kws={'orientation':'horizontal','location':'top','shrink':0.3,\n",
    "#                   'ticks':[0.8,1,1.2],'anchor':(0,0)})\n",
    "#         ax[i,j].set_title(f'{c}_{a}')\n",
    "\n",
    "# fig.suptitle('co-contraction index')\n",
    "# plt.tight_layout()"
   ]
  },
  {
   "cell_type": "code",
   "execution_count": 8,
   "metadata": {},
   "outputs": [
    {
     "data": {
      "image/png": "[encoded data removed]",
      "text/plain": [
       "<Figure size 1500x500 with 4 Axes>"
      ]
     },
     "metadata": {},
     "output_type": "display_data"
    }
   ],
   "source": [
    "# Compare the young vs. old CI\n",
    "# Two ways:\n",
    "# One is resistive CI to all KCI (resistive are not significant though).\n",
    "# Two, the percentage of the driving muscles over time (number of driving muscle-pairs per minute).\n",
    "\n",
    "# This is only for average heatmap seen above and to provide some insight.\n",
    "# We can only look on the significant time-frames:\n",
    "grp_sig_driving, grp_CI = [{a: {c: [] for c in CONDS} for a in SUBJS} for _ in range(2)]\n",
    "mean_driving_index, mean_CI = [{a: {c: 0 for c in CONDS} for a in SUBJS} for _ in range(2)]\n",
    "sig_driving_index = pd.DataFrame()\n",
    "for i, c in enumerate(CONDS):\n",
    "    for a in SUBJS:\n",
    "        grp_sig_driving[a][c] = np.count_nonzero(sigmaps_num[a][c], axis=0)\n",
    "        mean_driving_index[a][c] = np.mean(grp_sig_driving[a][c])\n",
    "        temp_map = ci_maps[a][c].copy()\n",
    "        grp_CI[a][c] = np.sum(temp_map, axis=0) / 12\n",
    "        mean_CI[a][c] = np.mean(grp_CI[a][c])\n",
    "\n",
    "# to get the stats and plots for the driving muscle pairs, replace grp_CI below to grp_sig_driving\n",
    "    sig_driving_index = pd.concat(\n",
    "        [sig_driving_index, pg.ttest(grp_CI['young'][c], grp_CI['old'][c], alternative='less')],\n",
    "        ignore_index=True\n",
    "    )\n",
    "    sig_driving_index.loc[i, 'condition'] = c\n",
    "\n",
    "if save_stats:\n",
    "    with pd.ExcelWriter(DATA_PATH + 'group_response/number_of_driving_pairs_per_min.xlsx') as writer:\n",
    "        sig_driving_index.to_excel(writer, sheet_name='unpaired_ttest')\n",
    "\n",
    "fig, ax = plt.subplots(1, len(CONDS), sharey=True, figsize=(15, 5))\n",
    "for i, c in enumerate(CONDS):\n",
    "    box_data = pd.DataFrame(grp_CI['young'][c], columns=['average CI'])\n",
    "    box_data['age'] = 'young'\n",
    "    box_data = pd.concat(\n",
    "        [box_data, pd.DataFrame(grp_CI['old'][c], columns=['average CI'])], ignore_index=True)\n",
    "    box_data.loc[box_data['age'] != 'young', 'age'] = 'old'\n",
    "    lnd.lnd(data=box_data, y='average CI', x='age', ax=ax[i], palette='Set2', adtnl_space=0.2,\n",
    "            mean_size=0.3, size=10, lw=4)\n",
    "    ax[i].set_title(c)\n",
    "    ax[i].spines['right'].set_visible(False)\n",
    "    ax[i].spines['top'].set_visible(False)\n",
    "\n",
    "fig.tight_layout()\n",
    "fig.suptitle('average CI per minute', y=1.02)\n",
    "if not plot_fig:\n",
    "    plt.close(fig)\n",
    "if save_fig:\n",
    "    fig.savefig(DATA_PATH + 'group_response/averageCI_per_min.pdf', bbox_inches='tight')"
   ]
  },
  {
   "cell_type": "code",
   "execution_count": 9,
   "metadata": {},
   "outputs": [],
   "source": [
    "# Weight normalization\n",
    "# Part of the smoothing was to find the weight of each data point, so, we cant' just add them together and make an\n",
    "#  average. First we need to embed the weights into the CI values.\n",
    "\n",
    "normal_average = {a: {c: np.zeros([len(SUBJS[a]), len(TP_NAMES) * len(TESTS), NUM_COL]) for c in CONDS}\n",
    "                  for a in SUBJS}\n",
    "\n",
    "\n",
    "def normalize_by_weight(data, weights, groups, axis=0):\n",
    "    for g in groups:\n",
    "        data[g] = data[g] * weights[g] / np.tile(\n",
    "            np.sum(weights[g], axis=axis), [data[g].shape[axis], 1]) * data[g].shape[axis]\n",
    "    return data\n",
    "\n",
    "\n",
    "for k, t in enumerate(TESTS):\n",
    "    for a in SUBJS:\n",
    "        for c in CONDS:\n",
    "            count = 0\n",
    "            for b in BLOCKS:\n",
    "                if b != 'catch':\n",
    "                    temp_average = normalize_by_weight(\n",
    "                        sm_data[t][a][c][b], sm_weights[t][a][c][b], groups=TP_NAMES, axis=0)\n",
    "                    for i, p in enumerate(TP_NAMES):\n",
    "                        for j in range(temp_average[p].shape[0]):\n",
    "                            normal_average[a][c][j, i + len(TP_NAMES) * k,\n",
    "                                                 count: count + DES_POINTS[b]] = temp_average[p][j, :]\n",
    "                    count += DES_POINTS[b]\n",
    "            normal_average[a][c][normal_average[a][c] == 0] = np.nan"
   ]
  },
  {
   "cell_type": "code",
   "execution_count": 10,
   "metadata": {},
   "outputs": [
    {
     "name": "stderr",
     "output_type": "stream",
     "text": [
      "/opt/homebrew/anaconda3/envs/torch-beta/lib/python3.9/site-packages/numpy/core/shape_base.py:65: UserWarning:\n",
      "\n",
      "Warning: converting a masked element to nan.\n",
      "\n"
     ]
    },
    {
     "data": {
      "image/png": "[encoded data removed]",
      "text/plain": [
       "<Figure size 640x480 with 1 Axes>"
      ]
     },
     "metadata": {},
     "output_type": "display_data"
    }
   ],
   "source": [
    "# Collapse over muscles (and then over time)\n",
    "# We can try to find the resiting ratio for 1- each time-frame and then 2- for the overall. This way, we only collapse\n",
    "# the muscles, not the time\n",
    "resisting_ratio = {a: {c: np.zeros((normal_average[a][c].shape[0], normal_average[a][c].shape[2])) for c in CONDS}\n",
    "                   for a in SUBJS}\n",
    "accum_ratio = {a: {c: [] for c in CONDS} for a in SUBJS}\n",
    "for c in CONDS:\n",
    "    for a in SUBJS:\n",
    "        resisting_ratio[a][c] = np.count_nonzero(normal_average[a][c] > 1, axis=1) / (\n",
    "            np.ones_like(resisting_ratio[a][c]) * normal_average[a][c].shape[1])\n",
    "        accum_ratio[a][c] = np.nanmean(resisting_ratio[a][c], axis=1)\n",
    "\n",
    "accum_ratio_stats = pd.DataFrame()  # also crushed time, only one value per subject\n",
    "for i, c in enumerate(CONDS):\n",
    "    accum_ratio_stats = pd.concat([accum_ratio_stats, pg.ttest(\n",
    "        accum_ratio['young'][c], accum_ratio['old'][c], alternative='less', correction=False)], ignore_index=True\n",
    "    )\n",
    "    accum_ratio_stats.loc[i, 'condition'] = c\n",
    "\n",
    "ratio_stats = pd.DataFrame()\n",
    "for i, c in enumerate(CONDS):\n",
    "    for n in range(NUM_COL):\n",
    "        temp_test = pg.ttest(\n",
    "            resisting_ratio['young'][c][:, n], resisting_ratio['old'][c][:, n], alternative='less', correction=False)\n",
    "        ratio_stats = pd.concat([ratio_stats, temp_test], ignore_index=True)\n",
    "        ratio_stats.loc[i * NUM_COL + n, 'condition'] = f\"{c}_{n}\"\n",
    "\n",
    "if save_stats:\n",
    "    with pd.ExcelWriter(DATA_PATH + 'group_response/resistance_ratio_stats.xlsx') as writer:\n",
    "        accum_ratio_stats.to_excel(writer, sheet_name='accum_test')\n",
    "        ratio_stats[ratio_stats['p-val'] < 0.1].to_excel(writer, sheet_name='perminute_test')\n",
    "\n",
    "\n",
    "# %% plot it\n",
    "# plot the accumulated stats\n",
    "box_data = pd.DataFrame(accum_ratio['young'])\n",
    "box_data['age'] = 'young'\n",
    "box_data = pd.concat([box_data, pd.DataFrame(accum_ratio['old'])], ignore_index=True)\n",
    "box_data.loc[box_data['age'] != 'young', 'age'] = 'old'\n",
    "adtnl_space = 0.1\n",
    "fig, ax = plt.subplots(1, 1)\n",
    "lnd.lnd(\n",
    "    data=box_data.melt(id_vars=['age'], value_vars=CONDS, var_name='condition', value_name='resistance ratio'),\n",
    "    x='condition', y='resistance ratio', hue='age', palette='Set2', size=3, ax=ax\n",
    ")\n",
    "ax.set_title('resisitance ratio of young and older adults')\n",
    "ax.spines['right'].set_visible(False)\n",
    "ax.spines['top'].set_visible(False)\n",
    "sns.move_legend(ax, 'upper left', bbox_to_anchor=(1, 1))\n",
    "if not plot_fig:\n",
    "    plt.close(fig)\n",
    "if save_fig:\n",
    "    fig.savefig(DATA_PATH + 'group_response/accumulated_resistance_ratio_by_age.jpg', bbox_inches='tight')\n",
    "\n",
    "# plotly implementation (harder to implement subplots)\n",
    "# fig = px.box(\n",
    "#     box_data.melt(id_vars=['age'], value_vars=CONDS, var_name='condition', value_name='resistance ratio'),\n",
    "#     x='condition', y='resistance ratio', color='age',\n",
    "#     title='accumulated resistance ratio by age')\n",
    "# if plot_fig:\n",
    "#     fig.show()\n",
    "# if save_fig:\n",
    "#     fig.write_image(DATA_PATH + 'group_response/accumulated_resistance_ratio_by_age.pdf')"
   ]
  },
  {
   "cell_type": "code",
   "execution_count": 12,
   "metadata": {},
   "outputs": [
    {
     "data": {
      "image/png": "[encoded data removed]",
      "text/plain": [
       "<Figure size 1000x1600 with 4 Axes>"
      ]
     },
     "metadata": {},
     "output_type": "display_data"
    }
   ],
   "source": [
    "# Plot the temporal comparison.\n",
    "l_color = {a: [] for a in SUBJS}\n",
    "l_color['young'] = {'pre': rgb('lime'), 'pert': rgb('dodgerblue'), 'catch': rgb('deeppink'), 'post': rgb('darkgreen')}\n",
    "l_color['old'] = {'pre': rgb('orange'), 'pert': rgb('royalblue'), 'catch': rgb('darkviolet'),\n",
    "                  'post': rgb('darkgoldenrod')}\n",
    "plot_colors = {'young':\n",
    "               np.concatenate((\n",
    "                   np.tile(l_color['young']['pre'], (2, 1)),\n",
    "                   np.tile(l_color['young']['pert'], (6, 1)),\n",
    "                   np.tile(l_color['young']['post'], (2, 1))), axis=0),\n",
    "               'old':\n",
    "               np.concatenate((\n",
    "                   np.tile(l_color['old']['pre'], (2, 1)),\n",
    "                   np.tile(l_color['old']['pert'], (6, 1)),\n",
    "                   np.tile(l_color['old']['post'], (2, 1))), axis=0)}\n",
    "\n",
    "box_data = {c: [] for c in CONDS}\n",
    "fig, ax = plt.subplots(len(CONDS), 1, sharey=True, figsize=(10, 16))\n",
    "for i, c in enumerate(CONDS):\n",
    "    box_data[c] = pd.DataFrame(resisting_ratio['young'][c])\n",
    "    box_data[c]['age'] = 'young'\n",
    "    box_data[c] = pd.concat([box_data[c], pd.DataFrame(resisting_ratio['old'][c])], ignore_index=True)\n",
    "    box_data[c].loc[box_data[c]['age'] != 'young', 'age'] = 'old'\n",
    "    lnd.lnd(\n",
    "        data=box_data[c].melt(id_vars=['age'], value_vars=list(range(NUM_COL)), var_name='minute', value_name='R-R'),\n",
    "        x='minute', y='R-R', hue='age', palette='Set2', ax=ax[i], size=5, lw=2, colors=plot_colors\n",
    "    )\n",
    "    sns.move_legend(ax[i], 'upper left', bbox_to_anchor=(1, 1))\n",
    "    ax[i].set_title(c)\n",
    "    ax[i].spines['right'].set_visible(False)\n",
    "    ax[i].spines['top'].set_visible(False)\n",
    "    ax[i].get_legend().set_visible(False)\n",
    "    if i == 0:\n",
    "        ax[i].get_legend().set_visible(True)\n",
    "fig.tight_layout()\n",
    "fig.suptitle('resistance ratio over time', y=1.02)\n",
    "if not plot_fig:\n",
    "    plt.close(fig)\n",
    "if save_fig:\n",
    "    fig.savefig(DATA_PATH + 'group_response/resistance_ratio_by_time_and_age.pdf', bbox_inches='tight')"
   ]
  }
 ],
 "metadata": {
  "kernelspec": {
   "display_name": "torch-beta",
   "language": "python",
   "name": "python3"
  },
  "language_info": {
   "codemirror_mode": {
    "name": "ipython",
    "version": 3
   },
   "file_extension": ".py",
   "mimetype": "text/x-python",
   "name": "python",
   "nbconvert_exporter": "python",
   "pygments_lexer": "ipython3",
   "version": "3.9.13"
  },
  "orig_nbformat": 4,
  "vscode": {
   "interpreter": {
    "hash": "7cc401fccc55e2825ef583b7b43bb1f971ba34a72aecd6f049901fe5d37b7bbc"
   }
  }
 },
 "nbformat": 4,
 "nbformat_minor": 2
}
