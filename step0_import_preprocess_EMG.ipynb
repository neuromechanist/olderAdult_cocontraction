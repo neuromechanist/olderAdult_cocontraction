{
 "cells": [
  {
   "attachments": {},
   "cell_type": "markdown",
   "metadata": {},
   "source": [
    "# Import and pre-process the EMG data\n",
    "\n",
    "## NOTE: Raw data is not currently shared. This code is only provided for reference.\n",
    "\n",
    "The preprocessing includes the following:\n",
    "1. Import the data\n",
    "2. Create the linear envelope:\n",
    "   -  Band-pass filter\n",
    "   - Rectification\n",
    "   - Low-pass filter\n",
    "3. Epoch to the steps.\n",
    "4. Normalize the linear envelope"
   ]
  },
  {
   "cell_type": "code",
   "execution_count": null,
   "metadata": {},
   "outputs": [],
   "source": [
    "import os\n",
    "\n",
    "import numpy as np\n",
    "import pandas as pd\n",
    "import pyarrow.feather as feather\n",
    "import ray\n",
    "from scipy.io import loadmat\n",
    "\n",
    "import EssentialEMGFuncs as ess\n",
    "\n",
    "ray.shutdown()\n",
    "ray.init(dashboard_host='127.0.0.1')\n",
    "save_fig = False\n",
    "\n",
    "# set some variables\n",
    "subj = input(\"Enter the subject number : \") or \"PS25\"\n",
    "conds = ['presit', 'postsit', 'LEI', 'LME', 'RME', 'REI']\n",
    "data_path = './data/emg/'\n",
    "subj_path = data_path + subj + '/'\n",
    "if not os.path.isdir(subj_path + 'figs'):\n",
    "    os.mkdir(subj_path + 'figs')  # create folder for raw figures\n",
    "\n",
    "pert_start, pert_end = 120, 480  # start and end of the perturbation period\n",
    "target_freq = 1000\n"
   ]
  },
  {
   "cell_type": "code",
   "execution_count": null,
   "metadata": {},
   "outputs": [],
   "source": [
    "# Import raw EMG files and resample. Import stepping events.\n",
    "raw_data = {c: [] for c in conds}\n",
    "par_read_csv = ray.remote(pd.read_csv)\n",
    "\n",
    "for c in conds:\n",
    "    # I use ray to read all files at once\n",
    "    raw_data[c] = par_read_csv.remote(subj_path + subj + '_' + c + '.csv')\n",
    "for c in conds:\n",
    "    raw_data[c] = ray.get(raw_data[c]).copy()\n",
    "    time = []\n",
    "    time = raw_data[c]['X[s]']\n",
    "    raw_data[c].drop(\n",
    "        (col for col in raw_data[c].columns if 'EMG' not in col), axis=1, inplace=True)\n",
    "    raw_data[c]['time'] = time\n",
    "    raw_data[c].dropna(inplace=True)\n",
    "    raw_data[c] = ess.resamp_dataframe(raw_data[c], target_freq)\n",
    "\n",
    "# We also need matlab step time\n",
    "step_time = {c: [] for c in conds}\n",
    "for c in conds[2:]:\n",
    "    # c = 'LEI'  # to save some time for debugging\n",
    "    data = loadmat(subj_path + 'times/' + subj + '_' + c + '_time.mat')\n",
    "    step_time[c] = pd.DataFrame(\n",
    "        data=data['strideTime'], columns=['step_index', 'type', 'start', 'pert', 'other', 'end'])\n"
   ]
  },
  {
   "cell_type": "code",
   "execution_count": null,
   "metadata": {},
   "outputs": [],
   "source": [
    "# Create linear envelopes\n",
    "linear_envelope = {c: [] for c in conds}\n",
    "for c in conds:\n",
    "    # c = 'RME'  # to save some time for debugging\n",
    "    # plotting the four steps of the making linear envelope is supported. You just need to turn it on.\n",
    "    linear_envelope[c] = ess.create_envelope(\n",
    "        raw_data[c], fs=1000, band_pass=(30, 200), low_pass=20,\n",
    "        make_fig=False, muscle_idx_to_plot=10, plot_time=np.arange(110000, 130000))"
   ]
  },
  {
   "cell_type": "code",
   "execution_count": null,
   "metadata": {},
   "outputs": [],
   "source": [
    "# Create step-normalized profiles\n",
    "# Linear envelopes can be normalized to the step time because they don't have any frequency value.\n",
    "# Here, normalization does both epoching and warping.\n",
    "# Also the assumption is that the step_time and the EMG time are synced.\n",
    "par_normal_profile = ray.remote(ess.create_normal_profile)\n",
    "normal_envelope = {c: [] for c in conds}\n",
    "target_length = 2000\n",
    "for c in conds[2:]:\n",
    "    # c = 'LEI'  # to save some time for debugging\n",
    "    # normal_envelope[c] = ess.create_normal_profile(\n",
    "    #     linear_envelope[c], step_time[c], target_length)  # this is the non-parallel version\n",
    "    normal_envelope[c] = par_normal_profile.remote(linear_envelope[c], step_time[c], target_length)\n",
    "for c in conds[2:]:\n",
    "    normal_envelope[c] = ray.get(normal_envelope[c]).copy()\n",
    "    # .copy() releases the remote memory occupied by Ray object."
   ]
  },
  {
   "cell_type": "code",
   "execution_count": null,
   "metadata": {},
   "outputs": [],
   "source": [
    "# Plot and save average plots\n",
    "muscle_names = normal_envelope[c].columns.get_level_values('muscle').unique().to_list()\n",
    "muscle_titles = list(map(lambda x: x.split(':')[0].lower(), muscle_names))\n",
    "muscle_pairs = {np.int(i): mp for (i, mp) in zip(np.arange(np.floor(len(muscle_names) / 2)),\n",
    "                zip(muscle_names[:-1:2], muscle_names[1::2]))}\n",
    "muscle_pair_titles = {np.int(i): mp for (i, mp) in zip(np.arange(np.floor(len(muscle_titles) / 2)),\n",
    "                      zip(muscle_titles[:-1:2], muscle_titles[1::2]))}\n",
    "\n",
    "for c in conds[2:]:\n",
    "    fig = ess.plot_mean(\n",
    "        normal_envelope[c], muscle_pairs, titles=muscle_pair_titles, plot_CI=True, CI_method='bootstrap')\n",
    "    fig.suptitle(subj + ' ' + c + ' : raw EMG over total strides')\n",
    "    # if save_fig:  # Having non-normalized plots is not necessary\n",
    "    #     fig.savefig(subj_path+'figs/'+subj+ '_raw-EMG-envelope_timeNormalized_'+c+'.png')\n",
    "    #     fig.savefig(subj_path+'figs/'+subj+ '_raw-EMG-envelope_timeNormalized_'+c+'.pdf')\n"
   ]
  },
  {
   "attachments": {},
   "cell_type": "markdown",
   "metadata": {},
   "source": [
    "## Grand normalization\n",
    "We need to normalize the EMG signals based on the average or maximum. I think because different muscles might be recruited most at a certain task, a global normalization across task is more meaningful."
   ]
  },
  {
   "cell_type": "code",
   "execution_count": null,
   "metadata": {},
   "outputs": [],
   "source": [
    "gNormalized = normal_envelope.copy()\n",
    "if 'presit' in gNormalized.keys():\n",
    "    del gNormalized['presit']\n",
    "if 'postsit' in gNormalized.keys():\n",
    "    del gNormalized['postsit']\n",
    "concat_tasks = pd.concat(list(gNormalized.values()), axis=1, join='inner')\n",
    "mean_activation = concat_tasks.mean(axis=1, level=0).mean(axis=0)\n",
    "for c in conds[2:]:\n",
    "    for m in muscle_names[:-1]:\n",
    "        gNormalized[c][m] = gNormalized[c][m] / mean_activation[m]\n",
    "    fig = ess.plot_mean(gNormalized[c], muscle_pairs, titles=muscle_pair_titles, plot_CI=True, CI_method='bootstrap')\n",
    "    fig.suptitle(subj + ' ' + c + ' : Mean-Normalized EMG over total strides')\n",
    "    if save_fig:\n",
    "        fig.savefig(subj_path + 'figs/' + subj + '_meanNormalized-EMG-envelope_timeNormalized_' + c + '.png')\n",
    "        fig.savefig(subj_path + 'figs/' + subj + '_meanNormalized-EMG-envelope_timeNormalized_' + c + '.pdf')\n"
   ]
  },
  {
   "cell_type": "code",
   "execution_count": null,
   "metadata": {},
   "outputs": [],
   "source": [
    "# Save raw_data, and normal envelope\n",
    "# I can't save the linear envelope because it is not a data frame here.\n",
    "for c in conds:\n",
    "    raw_data[c].to_feather(f'{subj_path}{subj}_{c}_raw.feather')\n",
    "\n",
    "for c in conds[2:]:\n",
    "    # feather does not accept non-string column names. So we need to convert it.\n",
    "    normal_envelope[c].rename(\n",
    "        columns={t: str(t) for t in normal_envelope[c].columns.levels[1]}, inplace=True)\n",
    "    feather.write_feather(\n",
    "        normal_envelope[c], f'{subj_path}{subj}_{c}_normalEnvelope.feather')\n",
    "    normal_envelope[c].rename(\n",
    "        columns={t: int(t) for t in normal_envelope[c].columns.levels[1]}, inplace=True)"
   ]
  }
 ],
 "metadata": {
  "kernelspec": {
   "display_name": "torch-beta",
   "language": "python",
   "name": "python3"
  },
  "language_info": {
   "name": "python",
   "version": "3.9.13"
  },
  "orig_nbformat": 4,
  "vscode": {
   "interpreter": {
    "hash": "7cc401fccc55e2825ef583b7b43bb1f971ba34a72aecd6f049901fe5d37b7bbc"
   }
  }
 },
 "nbformat": 4,
 "nbformat_minor": 2
}
